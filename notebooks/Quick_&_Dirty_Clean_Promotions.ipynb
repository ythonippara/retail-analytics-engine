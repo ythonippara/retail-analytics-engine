{
 "cells": [
  {
   "cell_type": "code",
   "execution_count": 1,
   "id": "4569fd05-785a-45a7-8078-0eaa506f79ea",
   "metadata": {},
   "outputs": [],
   "source": [
    "import os\n",
    "import pandas as pd\n",
    "import numpy as np"
   ]
  },
  {
   "cell_type": "code",
   "execution_count": 2,
   "id": "678d54a3-7e65-450c-9822-416b3232f999",
   "metadata": {},
   "outputs": [
    {
     "name": "stdout",
     "output_type": "stream",
     "text": [
      "2.2.2\n"
     ]
    }
   ],
   "source": [
    "print(np.__version__)"
   ]
  },
  {
   "cell_type": "markdown",
   "id": "d793112f-ca1c-4555-bb91-1f8e118259e0",
   "metadata": {},
   "source": [
    "### Import Files & Check Datatypes"
   ]
  },
  {
   "cell_type": "code",
   "execution_count": 3,
   "id": "9f56523a-8f98-45d8-90d9-658b7ea10393",
   "metadata": {},
   "outputs": [
    {
     "name": "stdout",
     "output_type": "stream",
     "text": [
      "True\n"
     ]
    }
   ],
   "source": [
    "print(os.path.exists(r\"C:\\Data\\middleby-de-assignment\\de_assignment_resources\\promotion.csv\"))"
   ]
  },
  {
   "cell_type": "code",
   "execution_count": 4,
   "id": "b369ea8e-daef-488a-9ed3-95e791f04888",
   "metadata": {},
   "outputs": [],
   "source": [
    "promotions = pd.read_csv(r\"C:\\Data\\middleby-de-assignment\\de_assignment_resources\\promotion.csv\")"
   ]
  },
  {
   "cell_type": "code",
   "execution_count": 5,
   "id": "971516d7-86a0-4946-bf49-019cc8d5d012",
   "metadata": {},
   "outputs": [
    {
     "name": "stdout",
     "output_type": "stream",
     "text": [
      "          code  supermarkets  week                feature            display  \\\n",
      "0   2700042240           285    91         Not on Feature  Mid-Aisle End Cap   \n",
      "1   2700042292           285    92  Interior Page Feature     Not on Display   \n",
      "2   2700042274           285    92  Interior Page Feature     Not on Display   \n",
      "3   2700042273           285    92  Interior Page Feature     Not on Display   \n",
      "4   2700042254           285    92  Interior Page Feature     Not on Display   \n",
      "5   2700042240           285    92  Interior Page Feature  Mid-Aisle End Cap   \n",
      "6   2700042239           285    92  Interior Page Feature     Not on Display   \n",
      "7   2700042238           285    92  Interior Page Feature     Not on Display   \n",
      "8   2700042232           285    92  Interior Page Feature     Not on Display   \n",
      "9   2700042240           285    93         Not on Feature  Mid-Aisle End Cap   \n",
      "10  3620004155           286    94  Interior Page Feature     Not on Display   \n",
      "11  3620004153           286    94  Interior Page Feature     Not on Display   \n",
      "12  3620004152           286    94  Interior Page Feature     Not on Display   \n",
      "13  3620001375           286    94  Interior Page Feature     Not on Display   \n",
      "14  3620001369           286    94  Interior Page Feature     Not on Display   \n",
      "15  3620001365           286    94  Interior Page Feature     Not on Display   \n",
      "16  3620000489           286    94  Interior Page Feature     Not on Display   \n",
      "17  3620000488           286    94  Interior Page Feature     Not on Display   \n",
      "18  3620000482           286    94  Interior Page Feature     Not on Display   \n",
      "19  3620000480           286    94  Interior Page Feature     Not on Display   \n",
      "20  3620000468           286    94  Interior Page Feature     Not on Display   \n",
      "21  7680850108             1    68  Wrap Interior Feature     Not on Display   \n",
      "22  5100001212             1    66      Wrap Back Feature     Not on Display   \n",
      "23  5100002792             1    72  Interior Page Feature     Not on Display   \n",
      "24  3620000300             1    55  Wrap Interior Feature     Not on Display   \n",
      "\n",
      "    province  \n",
      "0          2  \n",
      "1          2  \n",
      "2          2  \n",
      "3          2  \n",
      "4          2  \n",
      "5          2  \n",
      "6          2  \n",
      "7          2  \n",
      "8          2  \n",
      "9          2  \n",
      "10         2  \n",
      "11         2  \n",
      "12         2  \n",
      "13         2  \n",
      "14         2  \n",
      "15         2  \n",
      "16         2  \n",
      "17         2  \n",
      "18         2  \n",
      "19         2  \n",
      "20         2  \n",
      "21         1  \n",
      "22         1  \n",
      "23         1  \n",
      "24         1  \n"
     ]
    }
   ],
   "source": [
    "# Display the first 25 rows\n",
    "print(promotions.head(25))"
   ]
  },
  {
   "cell_type": "code",
   "execution_count": 6,
   "id": "ae5ec45d-ea42-416d-a9db-375ba1797a68",
   "metadata": {},
   "outputs": [
    {
     "name": "stdout",
     "output_type": "stream",
     "text": [
      "<class 'pandas.core.frame.DataFrame'>\n",
      "RangeIndex: 351372 entries, 0 to 351371\n",
      "Data columns (total 6 columns):\n",
      " #   Column        Non-Null Count   Dtype \n",
      "---  ------        --------------   ----- \n",
      " 0   code          351372 non-null  int64 \n",
      " 1   supermarkets  351372 non-null  int64 \n",
      " 2   week          351372 non-null  int64 \n",
      " 3   feature       351372 non-null  object\n",
      " 4   display       351372 non-null  object\n",
      " 5   province      351372 non-null  int64 \n",
      "dtypes: int64(4), object(2)\n",
      "memory usage: 16.1+ MB\n"
     ]
    }
   ],
   "source": [
    "promotions.info()"
   ]
  },
  {
   "cell_type": "code",
   "execution_count": 7,
   "id": "233fe46f-7bd0-4984-91f1-56bba27e34c5",
   "metadata": {},
   "outputs": [
    {
     "data": {
      "text/plain": [
       "code\n",
       "3620000300    6615\n",
       "3620000250    5842\n",
       "3620000350    5399\n",
       "9999985052    3654\n",
       "3620000440    3379\n",
       "              ... \n",
       "8147571687       1\n",
       "7468300310       1\n",
       "3340060108       1\n",
       "3340061126       1\n",
       "3340060980       1\n",
       "Name: count, Length: 479, dtype: int64"
      ]
     },
     "execution_count": 7,
     "metadata": {},
     "output_type": "execute_result"
    }
   ],
   "source": [
    "# 479 individual items under a promotion\n",
    "promotions[\"code\"].value_counts()"
   ]
  },
  {
   "cell_type": "code",
   "execution_count": 8,
   "id": "fc48f428-df5f-441f-b430-a52ea672c123",
   "metadata": {},
   "outputs": [
    {
     "data": {
      "text/plain": [
       "supermarkets\n",
       "270    1737\n",
       "187    1631\n",
       "152    1464\n",
       "326    1384\n",
       "333    1332\n",
       "       ... \n",
       "386     140\n",
       "198     129\n",
       "310      87\n",
       "166      39\n",
       "387      28\n",
       "Name: count, Length: 381, dtype: int64"
      ]
     },
     "execution_count": 8,
     "metadata": {},
     "output_type": "execute_result"
    }
   ],
   "source": [
    "# 381 supermarkets participating\n",
    "promotions[\"supermarkets\"].value_counts()"
   ]
  },
  {
   "cell_type": "code",
   "execution_count": 9,
   "id": "577b74f9-7f74-43eb-94c5-290b1d8879a9",
   "metadata": {},
   "outputs": [
    {
     "data": {
      "text/plain": [
       "week\n",
       "67     15785\n",
       "68     15075\n",
       "79     14153\n",
       "44     13015\n",
       "49     12828\n",
       "       ...  \n",
       "51       989\n",
       "99       930\n",
       "100      927\n",
       "102      897\n",
       "59       827\n",
       "Name: count, Length: 62, dtype: int64"
      ]
     },
     "execution_count": 9,
     "metadata": {},
     "output_type": "execute_result"
    }
   ],
   "source": [
    "promotions[\"week\"].value_counts()"
   ]
  },
  {
   "cell_type": "code",
   "execution_count": 10,
   "id": "8c057db9-1a06-43cc-a95b-1627cebae25b",
   "metadata": {},
   "outputs": [
    {
     "data": {
      "text/plain": [
       "feature\n",
       "Interior Page Feature      192995\n",
       "Not on Feature              78955\n",
       "Front Page Feature          34049\n",
       "Wrap Interior Feature       22203\n",
       "Back Page Feature            7397\n",
       "Interior Page Line Item      6001\n",
       "Wrap Back Feature            5004\n",
       "Wrap Front Feature           4768\n",
       "Name: count, dtype: int64"
      ]
     },
     "execution_count": 10,
     "metadata": {},
     "output_type": "execute_result"
    }
   ],
   "source": [
    "promotions[\"feature\"].value_counts()"
   ]
  },
  {
   "cell_type": "code",
   "execution_count": 11,
   "id": "d7dc4275-1337-4c52-a7c9-56e77b752183",
   "metadata": {},
   "outputs": [
    {
     "data": {
      "text/plain": [
       "display\n",
       "Not on Display                254776\n",
       "Rear End Cap                   24656\n",
       "In-Shelf                       20617\n",
       "Secondary Location Display     14475\n",
       "Front End Cap                  10178\n",
       "In-Aisle                        9147\n",
       "Promo/Seasonal Aisle            5329\n",
       "Mid-Aisle End Cap               4675\n",
       "Store Rear                      4250\n",
       "Store Front                     2257\n",
       "Side-Aisle End Cap              1012\n",
       "Name: count, dtype: int64"
      ]
     },
     "execution_count": 11,
     "metadata": {},
     "output_type": "execute_result"
    }
   ],
   "source": [
    "promotions[\"display\"].value_counts()"
   ]
  },
  {
   "cell_type": "code",
   "execution_count": 12,
   "id": "51e2ace1-dff4-4631-8ac8-ebce51831bde",
   "metadata": {},
   "outputs": [
    {
     "data": {
      "text/plain": [
       "province\n",
       "1    207193\n",
       "2    144179\n",
       "Name: count, dtype: int64"
      ]
     },
     "execution_count": 12,
     "metadata": {},
     "output_type": "execute_result"
    }
   ],
   "source": [
    "promotions[\"province\"].value_counts()"
   ]
  },
  {
   "cell_type": "code",
   "execution_count": null,
   "id": "a993967d-1f9b-473f-a3fa-60b1255c6cf1",
   "metadata": {},
   "outputs": [],
   "source": []
  }
 ],
 "metadata": {
  "kernelspec": {
   "display_name": "Python 3 (ipykernel)",
   "language": "python",
   "name": "python3"
  },
  "language_info": {
   "codemirror_mode": {
    "name": "ipython",
    "version": 3
   },
   "file_extension": ".py",
   "mimetype": "text/x-python",
   "name": "python",
   "nbconvert_exporter": "python",
   "pygments_lexer": "ipython3",
   "version": "3.12.2"
  }
 },
 "nbformat": 4,
 "nbformat_minor": 5
}
