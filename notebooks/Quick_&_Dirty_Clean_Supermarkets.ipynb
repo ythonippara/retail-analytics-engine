{
 "cells": [
  {
   "cell_type": "code",
   "execution_count": 4,
   "id": "4569fd05-785a-45a7-8078-0eaa506f79ea",
   "metadata": {},
   "outputs": [],
   "source": [
    "import os\n",
    "import pandas as pd\n",
    "import numpy as np"
   ]
  },
  {
   "cell_type": "code",
   "execution_count": 5,
   "id": "678d54a3-7e65-450c-9822-416b3232f999",
   "metadata": {},
   "outputs": [
    {
     "name": "stdout",
     "output_type": "stream",
     "text": [
      "2.2.2\n"
     ]
    }
   ],
   "source": [
    "print(np.__version__)"
   ]
  },
  {
   "cell_type": "markdown",
   "id": "d793112f-ca1c-4555-bb91-1f8e118259e0",
   "metadata": {},
   "source": [
    "### Import Files & Check Datatypes"
   ]
  },
  {
   "cell_type": "code",
   "execution_count": 6,
   "id": "9f56523a-8f98-45d8-90d9-658b7ea10393",
   "metadata": {},
   "outputs": [
    {
     "name": "stdout",
     "output_type": "stream",
     "text": [
      "True\n"
     ]
    }
   ],
   "source": [
    "print(os.path.exists(r\"C:\\Data\\middleby-de-assignment\\de_assignment_resources\\supermarkets.csv\"))"
   ]
  },
  {
   "cell_type": "code",
   "execution_count": 7,
   "id": "b369ea8e-daef-488a-9ed3-95e791f04888",
   "metadata": {},
   "outputs": [],
   "source": [
    "supermarkets = pd.read_csv(r\"C:\\Data\\middleby-de-assignment\\de_assignment_resources\\supermarkets.csv\")"
   ]
  },
  {
   "cell_type": "code",
   "execution_count": 10,
   "id": "971516d7-86a0-4946-bf49-019cc8d5d012",
   "metadata": {},
   "outputs": [
    {
     "name": "stdout",
     "output_type": "stream",
     "text": [
      "    supermarket_No  postal-code\n",
      "0              199        30319\n",
      "1              200        30134\n",
      "2              201        30066\n",
      "3              202        31093\n",
      "4              203        30542\n",
      "5              204        31069\n",
      "6              205        30062\n",
      "7              206        30534\n",
      "8              207        30024\n",
      "9              208        37918\n",
      "10             209        37914\n",
      "11             210        30101\n",
      "12             211        38555\n",
      "13             212        30041\n",
      "14             213        30125\n",
      "15             214        35810\n",
      "16             215        37922\n",
      "17             216        30101\n",
      "18             217        30047\n",
      "19             218        30161\n",
      "20             219        30338\n",
      "21               1        37865\n",
      "22               2        30084\n",
      "23               3        30039\n",
      "24               4        31210\n"
     ]
    }
   ],
   "source": [
    "# Display the first 25 rows\n",
    "print(supermarkets.head(25))"
   ]
  },
  {
   "cell_type": "code",
   "execution_count": 11,
   "id": "ae5ec45d-ea42-416d-a9db-375ba1797a68",
   "metadata": {},
   "outputs": [
    {
     "name": "stdout",
     "output_type": "stream",
     "text": [
      "<class 'pandas.core.frame.DataFrame'>\n",
      "RangeIndex: 387 entries, 0 to 386\n",
      "Data columns (total 2 columns):\n",
      " #   Column          Non-Null Count  Dtype\n",
      "---  ------          --------------  -----\n",
      " 0   supermarket_No  387 non-null    int64\n",
      " 1   postal-code     387 non-null    int64\n",
      "dtypes: int64(2)\n",
      "memory usage: 6.2 KB\n"
     ]
    }
   ],
   "source": [
    "supermarkets.info()"
   ]
  },
  {
   "cell_type": "code",
   "execution_count": 12,
   "id": "233fe46f-7bd0-4984-91f1-56bba27e34c5",
   "metadata": {},
   "outputs": [
    {
     "data": {
      "text/plain": [
       "supermarket_No\n",
       "387    1\n",
       "199    1\n",
       "200    1\n",
       "348    1\n",
       "349    1\n",
       "      ..\n",
       "205    1\n",
       "206    1\n",
       "207    1\n",
       "208    1\n",
       "209    1\n",
       "Name: count, Length: 387, dtype: int64"
      ]
     },
     "execution_count": 12,
     "metadata": {},
     "output_type": "execute_result"
    }
   ],
   "source": [
    "# 387 supermarkets\n",
    "supermarkets[\"supermarket_No\"].value_counts()"
   ]
  },
  {
   "cell_type": "code",
   "execution_count": 13,
   "id": "fc48f428-df5f-441f-b430-a52ea672c123",
   "metadata": {},
   "outputs": [
    {
     "data": {
      "text/plain": [
       "postal-code\n",
       "37211    5\n",
       "30064    4\n",
       "40502    4\n",
       "37918    3\n",
       "37064    3\n",
       "        ..\n",
       "30341    1\n",
       "37863    1\n",
       "37923    1\n",
       "30909    1\n",
       "62959    1\n",
       "Name: count, Length: 299, dtype: int64"
      ]
     },
     "execution_count": 13,
     "metadata": {},
     "output_type": "execute_result"
    }
   ],
   "source": [
    "# 299 postal codes\n",
    "supermarkets[\"postal-code\"].value_counts()"
   ]
  }
 ],
 "metadata": {
  "kernelspec": {
   "display_name": "Python 3 (ipykernel)",
   "language": "python",
   "name": "python3"
  },
  "language_info": {
   "codemirror_mode": {
    "name": "ipython",
    "version": 3
   },
   "file_extension": ".py",
   "mimetype": "text/x-python",
   "name": "python",
   "nbconvert_exporter": "python",
   "pygments_lexer": "ipython3",
   "version": "3.12.2"
  }
 },
 "nbformat": 4,
 "nbformat_minor": 5
}
