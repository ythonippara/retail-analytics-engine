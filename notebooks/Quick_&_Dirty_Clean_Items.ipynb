{
 "cells": [
  {
   "cell_type": "code",
   "execution_count": 580,
   "id": "dcb47ec2-b44a-4f62-9176-ef82f4075d79",
   "metadata": {},
   "outputs": [],
   "source": [
    "import os\n",
    "import pandas as pd\n",
    "import numpy as np"
   ]
  },
  {
   "cell_type": "code",
   "execution_count": 581,
   "id": "d3f1b744-ff7d-4771-82cb-ae4c1f92d12b",
   "metadata": {},
   "outputs": [
    {
     "name": "stdout",
     "output_type": "stream",
     "text": [
      "2.2.2\n"
     ]
    }
   ],
   "source": [
    "print(np.__version__)"
   ]
  },
  {
   "cell_type": "markdown",
   "id": "40ab2eb3-dc80-4f29-9d3a-a30c54a561a6",
   "metadata": {},
   "source": [
    "### Import Files & Check Datatypes"
   ]
  },
  {
   "cell_type": "code",
   "execution_count": 582,
   "id": "ab053f68-dbf9-443d-855e-04cd9e0274cc",
   "metadata": {},
   "outputs": [
    {
     "name": "stdout",
     "output_type": "stream",
     "text": [
      "True\n"
     ]
    }
   ],
   "source": [
    "print(os.path.exists(r\"C:\\Data\\middleby-de-assignment\\de_assignment_resources\\item.csv\"))"
   ]
  },
  {
   "cell_type": "code",
   "execution_count": 583,
   "id": "0ed65b16-6c72-425e-a92c-0ea64667d308",
   "metadata": {},
   "outputs": [],
   "source": [
    "items = pd.read_csv(r\"C:\\Data\\middleby-de-assignment\\de_assignment_resources\\item.csv\")"
   ]
  },
  {
   "cell_type": "code",
   "execution_count": 584,
   "id": "4aaff6ee-4aa8-459d-b9b7-cf5a03ff7ae2",
   "metadata": {},
   "outputs": [
    {
     "name": "stdout",
     "output_type": "stream",
     "text": [
      "          code                     descrption    type          brand      size\n",
      "0   3000005040  AUNT JEM ORIGINAL PANCAKE MIX  Type 1    Aunt Jemima      2 LB\n",
      "1   3000005070      A/JEM COMPLETE PANCAKE MI  Type 1    Aunt Jemima  32    OZ\n",
      "2   3000005300      AJ BUTTERMILK PANCAKE MIX  Type 1    Aunt Jemima     32 OZ\n",
      "3   3000005350       A J BTRMLK COMP PNCK MIX  Type 1    Aunt Jemima      1 LB\n",
      "4   1600015760      BC PANCAKE MIX BUTTERMILK  Type 1       Bisquick   6.75 OZ\n",
      "5   1600047090       BISQUICK SHK PR BTMK PNK  Type 1       Bisquick      7 OZ\n",
      "6   1600047110      BISQ SHK N PR BLUBRY PNCK  Type 1       Bisquick   7.75 OZ\n",
      "7   1600047120      BISQ.SHAKE&POUR PANCAKE-O  Type 1       Bisquick      7 OZ\n",
      "8   1760004476        BRUCES SWT POT PANCK MX  Type 1        Bruce's    1.5 LB\n",
      "9   7582281003  CLASSIQUE FARE BELGN WAFF MIX  Type 1      Classique     16 OZ\n",
      "10  1112600710      FASTSHAKE PANCAKE MIX BTR  Type 1      Fastshake      5 OZ\n",
      "11  1112600715      FASTSHAKE BUTTERMILK FMLY  Type 1      Fastshake   10.5 OZ\n",
      "12  1112600720            FASTSHAKE BLUEBERRY  Type 1      Fastshake      5 OZ\n",
      "13  7151802022         HODGSON BUTERMILK PANC  Type 1  Hodgson Mills      2 LB\n",
      "14  7151802024         HODGSON  BUCKWHEAT PAN  Type 1  Hodgson Mills     32 OZ\n",
      "15  7151802028       HM MUTLIGRN W/FLXSD PNCK  Type 1  Hodgson Mills     16 OZ\n",
      "16  1800028035       HNGRY JK COMP BTRMLK 4PK  Type 1    Hungry Jack     16 OZ\n",
      "17  1800028036      HNGRY JK BLUEBRY COMP 4PK  Type 1    Hungry Jack     16 OZ\n",
      "18  1800028063       H J PANCAKE ORIGINAL MIX  Type 1    Hungry Jack     32 OZ\n",
      "19  1800028064      H J PANCK BTRMLK COMP MIX  Type 1    Hungry Jack          \n",
      "20  1800028065        H J PANCAKE EX LITE MIX  Type 1    Hungry Jack     32 OZ\n",
      "21  1800028066       H J BUTTERMILK PANCK MIX  Type 1    Hungry Jack          \n",
      "22  1800028067      H J PANCK MX EX LITE COMP  Type 1    Hungry Jack          \n",
      "23  1800063130        PILL HJ BM BULK PANCAKE  Type 1    Hungry Jack     32 OZ\n",
      "24  1800063550          PB HJ BTR MLK PANCAKE  Type 1    Hungry Jack     37 OZ\n"
     ]
    }
   ],
   "source": [
    "# Display the first 25 rows\n",
    "print(items.head(25))"
   ]
  },
  {
   "cell_type": "code",
   "execution_count": 585,
   "id": "19f83f72-5f26-43ed-82f5-d400ad080662",
   "metadata": {},
   "outputs": [
    {
     "name": "stdout",
     "output_type": "stream",
     "text": [
      "<class 'pandas.core.frame.DataFrame'>\n",
      "RangeIndex: 927 entries, 0 to 926\n",
      "Data columns (total 5 columns):\n",
      " #   Column      Non-Null Count  Dtype \n",
      "---  ------      --------------  ----- \n",
      " 0   code        927 non-null    int64 \n",
      " 1   descrption  927 non-null    object\n",
      " 2   type        927 non-null    object\n",
      " 3   brand       927 non-null    object\n",
      " 4   size        927 non-null    object\n",
      "dtypes: int64(1), object(4)\n",
      "memory usage: 36.3+ KB\n"
     ]
    }
   ],
   "source": [
    "items.info()"
   ]
  },
  {
   "cell_type": "code",
   "execution_count": 586,
   "id": "5836e19b-7320-4a4d-8202-070c1ab63d73",
   "metadata": {},
   "outputs": [
    {
     "name": "stdout",
     "output_type": "stream",
     "text": [
      "Empty DataFrame\n",
      "Columns: [code, descrption, type, brand, size]\n",
      "Index: []\n"
     ]
    }
   ],
   "source": [
    "# Check for duplicates in item_code column\n",
    "duplicate_codes = items[items.duplicated(subset='code', keep=False)]\n",
    "\n",
    "# Display the duplicate rows\n",
    "print(duplicate_codes)"
   ]
  },
  {
   "cell_type": "code",
   "execution_count": 587,
   "id": "5fc23d7e-bbf9-4bc4-9351-d62f86e104cc",
   "metadata": {},
   "outputs": [
    {
     "data": {
      "text/plain": [
       "code\n",
       "6138914020    1\n",
       "3000005040    1\n",
       "3000005070    1\n",
       "3000005300    1\n",
       "3000005350    1\n",
       "             ..\n",
       "4420930112    1\n",
       "4420930139    1\n",
       "4420930142    1\n",
       "4420930321    1\n",
       "7754482500    1\n",
       "Name: count, Length: 927, dtype: int64"
      ]
     },
     "execution_count": 587,
     "metadata": {},
     "output_type": "execute_result"
    }
   ],
   "source": [
    "items[\"code\"].value_counts()"
   ]
  },
  {
   "cell_type": "code",
   "execution_count": 588,
   "id": "2e8953b8-ecc7-4724-aa0a-a6e6b486806d",
   "metadata": {},
   "outputs": [
    {
     "data": {
      "text/plain": [
       "descrption\n",
       "PRIVATE LABEL ELBOW MACARONI       6\n",
       "PREGO MUSHROOM SPAG SAUCE          3\n",
       "CLASSICO SUN DRIED TOMATO          3\n",
       "PRIVATE LABEL SPAGHETTI REGULAR    3\n",
       "PRIVATE LABEL SPAGHETTI            3\n",
       "                                  ..\n",
       "KRUSTEAZ COMP BM PANCAKE           1\n",
       "SPRTR SUGAR FREE SYRUP             1\n",
       "SPRNG TREE SF MAPLE SYRUP          1\n",
       "KRUSTEAZ BLUEBRY PANCAKE           1\n",
       "PIONEER CMPLT BTRMLK PNCK          1\n",
       "Name: count, Length: 872, dtype: int64"
      ]
     },
     "execution_count": 588,
     "metadata": {},
     "output_type": "execute_result"
    }
   ],
   "source": [
    "items[\"descrption\"].value_counts()"
   ]
  },
  {
   "cell_type": "code",
   "execution_count": 589,
   "id": "8e4fde44-239f-4932-b71e-43ac1f883328",
   "metadata": {},
   "outputs": [
    {
     "data": {
      "text/plain": [
       "type\n",
       "Type 2    448\n",
       "Type 3    294\n",
       "Type 4    139\n",
       "Type 1     46\n",
       "Name: count, dtype: int64"
      ]
     },
     "execution_count": 589,
     "metadata": {},
     "output_type": "execute_result"
    }
   ],
   "source": [
    "items[\"type\"].value_counts()"
   ]
  },
  {
   "cell_type": "code",
   "execution_count": 590,
   "id": "ee0a0567-1289-40b3-ac0b-2496ef83acf9",
   "metadata": {},
   "outputs": [
    {
     "data": {
      "text/plain": [
       "brand\n",
       "Private Label            71\n",
       "Barilla                  50\n",
       "Ragu                     47\n",
       "Private Label Premium    43\n",
       "Prego                    40\n",
       "                         ..\n",
       "Knott's                   1\n",
       "Moonlite                  1\n",
       "Lyles                     1\n",
       "Sobrab Bkstrp             1\n",
       "Vermont Gold              1\n",
       "Name: count, Length: 131, dtype: int64"
      ]
     },
     "execution_count": 590,
     "metadata": {},
     "output_type": "execute_result"
    }
   ],
   "source": [
    "items[\"brand\"].value_counts()"
   ]
  },
  {
   "cell_type": "code",
   "execution_count": 591,
   "id": "3deca500-abc2-4b68-9683-ad3314731a80",
   "metadata": {},
   "outputs": [],
   "source": [
    "# Standardize column names\n",
    "items = items.rename(columns={'code': 'item_code', 'descrption': 'item_desc', 'type': 'item_type', 'brand': 'item_brand', 'size': 'item_size'})"
   ]
  },
  {
   "cell_type": "code",
   "execution_count": 592,
   "id": "909ff407-ad2a-4a65-a599-5292b987db8f",
   "metadata": {},
   "outputs": [
    {
     "name": "stdout",
     "output_type": "stream",
     "text": [
      "<class 'pandas.core.frame.DataFrame'>\n",
      "RangeIndex: 927 entries, 0 to 926\n",
      "Data columns (total 5 columns):\n",
      " #   Column      Non-Null Count  Dtype \n",
      "---  ------      --------------  ----- \n",
      " 0   item_code   927 non-null    int64 \n",
      " 1   item_desc   927 non-null    object\n",
      " 2   item_type   927 non-null    object\n",
      " 3   item_brand  927 non-null    object\n",
      " 4   item_size   927 non-null    object\n",
      "dtypes: int64(1), object(4)\n",
      "memory usage: 36.3+ KB\n"
     ]
    }
   ],
   "source": [
    "items.info()"
   ]
  },
  {
   "cell_type": "markdown",
   "id": "568e20ae-b0c8-4006-9937-9f2f754a9891",
   "metadata": {},
   "source": [
    "### Add Extra Columns"
   ]
  },
  {
   "cell_type": "code",
   "execution_count": 593,
   "id": "e39bd50f-e4c1-4c6b-868b-dd6c182f30aa",
   "metadata": {},
   "outputs": [],
   "source": [
    "# Add new columns with default values\n",
    "items[\"item_uom\"] = None\n",
    "items[\"item_note\"] = None"
   ]
  },
  {
   "cell_type": "markdown",
   "id": "8bced2ba-3cf1-444d-b092-998010672bf8",
   "metadata": {},
   "source": [
    "### Clean description field"
   ]
  },
  {
   "cell_type": "code",
   "execution_count": 594,
   "id": "4ee707ee-6d28-419e-b60f-58d29cc201b2",
   "metadata": {},
   "outputs": [
    {
     "name": "stdout",
     "output_type": "stream",
     "text": [
      "      item_code                       item_desc item_type     item_brand  \\\n",
      "77   7680850643       (S)BARILLA GEMELLI Type 2    Type 2        Barilla   \n",
      "75   7680850294      (S)BARILLA RIGATONI Type 2    Type 2        Barilla   \n",
      "666  5100012013       (S)PREGO RICOTTA PARMESAN    Type 3          Prego   \n",
      "763  3620001495       (S)RAGU CHNKY GRDNSTYL GR    Type 3           Ragu   \n",
      "253  7151800017            *HODGE WHEAT LASAGNA    Type 2  Hodgson Mills   \n",
      "252  7151800016          *HODGE WHEAT SPAGHETTI    Type 2  Hodgson Mills   \n",
      "3    3000005350        A J BTRMLK COMP PNCK MIX    Type 1    Aunt Jemima   \n",
      "797  3000005940           A J BUTTER RICH SYRUP    Type 4    Aunt Jemima   \n",
      "790  3000003660       A J COUNTRY RICH LT SYRUP    Type 4    Aunt Jemima   \n",
      "1    3000005070       A/JEM COMPLETE PANCAKE MI    Type 1    Aunt Jemima   \n",
      "799  3000005960            A/JEM SYRUP ORIGINAL    Type 4    Aunt Jemima   \n",
      "2    3000005300       AJ BUTTERMILK PANCAKE MIX    Type 1    Aunt Jemima   \n",
      "50   8147571412     AL DEN WHL WHEAT FETTUCCINE    Type 2       Al Dente   \n",
      "55   8147591234       AL DENTE 3 PEPPER FETTUCI    Type 2       Al Dente   \n",
      "49   8147557893        AL DENTE BASIL FETTUCINE    Type 2       Al Dente   \n",
      "46   8147532456          AL DENTE EGG FETTUCINI    Type 2       Al Dente   \n",
      "53   8147582014       AL DENTE FIESTA FETTUCINE    Type 2       Al Dente   \n",
      "56   8147599847         AL DENTE GARLIC PARSLEY    Type 2       Al Dente   \n",
      "52   8147572543       AL DENTE LEMON CHIVE FETT    Type 2       Al Dente   \n",
      "51   8147571687  AL DENTE RED CHILI PEPPER FETT    Type 2       Al Dente   \n",
      "54   8147590123        AL DENTE SESAME LINGUINI    Type 2       Al Dente   \n",
      "47   8147534789      AL DENTE SPINACH FETTUCINI    Type 2       Al Dente   \n",
      "48   8147546297       AL DENTE TOMATO FETTICINE    Type 2       Al Dente   \n",
      "788  1160000004       ALAGA REAL CANE FLV SYRUP    Type 4          Alaga   \n",
      "789  1160000413       ALAGA YELL LBL HNY FLV SY    Type 4          Alaga   \n",
      "\n",
      "    item_size item_uom item_note  \n",
      "77      16 OZ     None      None  \n",
      "75      16 OZ     None      None  \n",
      "666  28    OZ     None      None  \n",
      "763     45 OZ     None      None  \n",
      "253      8 OZ     None      None  \n",
      "252     16 OZ     None      None  \n",
      "3        1 LB     None      None  \n",
      "797     24 OZ     None      None  \n",
      "790     24 OZ     None      None  \n",
      "1    32    OZ     None      None  \n",
      "799  36    OZ     None      None  \n",
      "2       32 OZ     None      None  \n",
      "50      12 OZ     None      None  \n",
      "55      12 OZ     None      None  \n",
      "49      12 OZ     None      None  \n",
      "46      12 OZ     None      None  \n",
      "53      12 OZ     None      None  \n",
      "56      12 OZ     None      None  \n",
      "52      12 OZ     None      None  \n",
      "51      12 OZ     None      None  \n",
      "54      12 OZ     None      None  \n",
      "47      12 OZ     None      None  \n",
      "48      12 OZ     None      None  \n",
      "788     24 OZ     None      None  \n",
      "789     24 OZ     None      None  \n"
     ]
    }
   ],
   "source": [
    "print(items.sort_values(by='item_desc').head(25))"
   ]
  },
  {
   "cell_type": "code",
   "execution_count": 595,
   "id": "b4f50465-2986-4899-97c8-d7a64a08d8f3",
   "metadata": {},
   "outputs": [
    {
     "name": "stdout",
     "output_type": "stream",
     "text": [
      "      item_code                       item_desc item_type     item_brand  \\\n",
      "44   3250041100        WHT LILY BLUBRY PNCK MIX    Type 1     White Lily   \n",
      "45   3250046100          WH LILY BM PANCAKE MIX    Type 1     White Lily   \n",
      "277  7209800102            WEISS W NOODLES 9297    Type 2      Mrs Weiss   \n",
      "787  4823910502       WALNUT ACRES ORG MARN SCE    Type 3   Walnut Acres   \n",
      "492  7173000676        WACKY MAC VEGGIE SPIRALS    Type 2      Wacky Mac   \n",
      "493  7173000677         WACKY MAC VEGGIE SHAPES    Type 2      Wacky Mac   \n",
      "926  6138914020          VRMT GLD PURE MPL SYRP    Type 4   Vermont Gold   \n",
      "491  2706457001  VITA SPELT WHOLE GRAIN EGG NOO    Type 2           Vita   \n",
      "786   111112360       VINCENT S ORIG MARINARA S    Type 3      Vincent's   \n",
      "859  7468300551       VERMONT S F PANCAKE SYRUP    Type 4    Maple Grove   \n",
      "857  7468300312   VERMONT 100% PURE MAPLE SYRUP    Type 4    Maple Grove   \n",
      "265  2100007213       VELVEETA O-T-G SHLL W/CHS    Type 2          Kraft   \n",
      "333  7021812015        Type 2RISO BRN RICE SPAG    Type 2     Type 2riso   \n",
      "322  4017367004     Type 2 SHP XMAS TREE Type 2    Type 2  Type 2 Shoppe   \n",
      "323  4017367005      Type 2 SHOPPE SANTA Type 2    Type 2  Type 2 Shoppe   \n",
      "325  4017367011     Type 2 SHOPPE HEARTS Type 2    Type 2  Type 2 Shoppe   \n",
      "330  4017367018      Type 2 SHOPPE GRLFRND PSTA    Type 2  Type 2 Shoppe   \n",
      "326  4017367013      Type 2 SHOPPE GD LUCK PSTA    Type 2  Type 2 Shoppe   \n",
      "331  4017367029     Type 2 SHOP TAILGATE Type 2    Type 2  Type 2 Shoppe   \n",
      "324  4017367008      Type 2 SHOP HALLOWEEN PSTA    Type 2  Type 2 Shoppe   \n",
      "924  3068434050  TREE OF LIFE REGULAR BLACKSTRA    Type 4   Tree of Life   \n",
      "925  3068434052  TREE OF LIFE REGULAR BLACKSTRA    Type 4   Tree of Life   \n",
      "617  9690600614       TIMPONES MOMS SPGHTTI SCE    Type 3          Mom's   \n",
      "490  3261211705            SUGAR BUSTER SPIRALS    Type 2   Sugar Buster   \n",
      "489  3261211702          SUGAR BUSTER SPAGHETTI    Type 2   Sugar Buster   \n",
      "\n",
      "      item_size item_uom item_note  \n",
      "44     6 1/2 OZ     None      None  \n",
      "45       5.5 OZ     None      None  \n",
      "277       10 OZ     None      None  \n",
      "787     25.5 OZ     None      None  \n",
      "492       12 OZ     None      None  \n",
      "493       12 OZ     None      None  \n",
      "926      8.5 OZ     None      None  \n",
      "491  ##########     None      None  \n",
      "786       25 OZ     None      None  \n",
      "859       12 OZ     None      None  \n",
      "857       16 OZ     None      None  \n",
      "265     6.75 OZ     None      None  \n",
      "333       10 OZ     None      None  \n",
      "322        10OZ     None      None  \n",
      "323        10OZ     None      None  \n",
      "325       14 OZ     None      None  \n",
      "330       14 OZ     None      None  \n",
      "326       14 OZ     None      None  \n",
      "331        10OZ     None      None  \n",
      "324        10OZ     None      None  \n",
      "924  ##########     None      None  \n",
      "925  ##########     None      None  \n",
      "617  CR   14 OZ     None      None  \n",
      "490  CR   16 OZ     None      None  \n",
      "489       16 OZ     None      None  \n"
     ]
    }
   ],
   "source": [
    "print(items.sort_values(by='item_desc', ascending=False).head(25))"
   ]
  },
  {
   "cell_type": "code",
   "execution_count": 596,
   "id": "10902df6-f696-4bab-a25e-1499855ff9cd",
   "metadata": {},
   "outputs": [],
   "source": [
    "# Remove 'Type 2' and 'Type 3' from 'description'\n",
    "items[\"item_desc\"] = items[\"item_desc\"].str.replace(r'Type [23]', '', regex=True).str.strip()"
   ]
  },
  {
   "cell_type": "code",
   "execution_count": 597,
   "id": "8f20863a-387f-4a98-be50-d0b231304eea",
   "metadata": {},
   "outputs": [
    {
     "name": "stdout",
     "output_type": "stream",
     "text": [
      "      item_code                       item_desc item_type     item_brand  \\\n",
      "77   7680850643              (S)BARILLA GEMELLI    Type 2        Barilla   \n",
      "75   7680850294             (S)BARILLA RIGATONI    Type 2        Barilla   \n",
      "666  5100012013       (S)PREGO RICOTTA PARMESAN    Type 3          Prego   \n",
      "763  3620001495       (S)RAGU CHNKY GRDNSTYL GR    Type 3           Ragu   \n",
      "253  7151800017            *HODGE WHEAT LASAGNA    Type 2  Hodgson Mills   \n",
      "252  7151800016          *HODGE WHEAT SPAGHETTI    Type 2  Hodgson Mills   \n",
      "3    3000005350        A J BTRMLK COMP PNCK MIX    Type 1    Aunt Jemima   \n",
      "797  3000005940           A J BUTTER RICH SYRUP    Type 4    Aunt Jemima   \n",
      "790  3000003660       A J COUNTRY RICH LT SYRUP    Type 4    Aunt Jemima   \n",
      "1    3000005070       A/JEM COMPLETE PANCAKE MI    Type 1    Aunt Jemima   \n",
      "799  3000005960            A/JEM SYRUP ORIGINAL    Type 4    Aunt Jemima   \n",
      "2    3000005300       AJ BUTTERMILK PANCAKE MIX    Type 1    Aunt Jemima   \n",
      "50   8147571412     AL DEN WHL WHEAT FETTUCCINE    Type 2       Al Dente   \n",
      "55   8147591234       AL DENTE 3 PEPPER FETTUCI    Type 2       Al Dente   \n",
      "49   8147557893        AL DENTE BASIL FETTUCINE    Type 2       Al Dente   \n",
      "46   8147532456          AL DENTE EGG FETTUCINI    Type 2       Al Dente   \n",
      "53   8147582014       AL DENTE FIESTA FETTUCINE    Type 2       Al Dente   \n",
      "56   8147599847         AL DENTE GARLIC PARSLEY    Type 2       Al Dente   \n",
      "52   8147572543       AL DENTE LEMON CHIVE FETT    Type 2       Al Dente   \n",
      "51   8147571687  AL DENTE RED CHILI PEPPER FETT    Type 2       Al Dente   \n",
      "54   8147590123        AL DENTE SESAME LINGUINI    Type 2       Al Dente   \n",
      "47   8147534789      AL DENTE SPINACH FETTUCINI    Type 2       Al Dente   \n",
      "48   8147546297       AL DENTE TOMATO FETTICINE    Type 2       Al Dente   \n",
      "788  1160000004       ALAGA REAL CANE FLV SYRUP    Type 4          Alaga   \n",
      "789  1160000413       ALAGA YELL LBL HNY FLV SY    Type 4          Alaga   \n",
      "\n",
      "    item_size item_uom item_note  \n",
      "77      16 OZ     None      None  \n",
      "75      16 OZ     None      None  \n",
      "666  28    OZ     None      None  \n",
      "763     45 OZ     None      None  \n",
      "253      8 OZ     None      None  \n",
      "252     16 OZ     None      None  \n",
      "3        1 LB     None      None  \n",
      "797     24 OZ     None      None  \n",
      "790     24 OZ     None      None  \n",
      "1    32    OZ     None      None  \n",
      "799  36    OZ     None      None  \n",
      "2       32 OZ     None      None  \n",
      "50      12 OZ     None      None  \n",
      "55      12 OZ     None      None  \n",
      "49      12 OZ     None      None  \n",
      "46      12 OZ     None      None  \n",
      "53      12 OZ     None      None  \n",
      "56      12 OZ     None      None  \n",
      "52      12 OZ     None      None  \n",
      "51      12 OZ     None      None  \n",
      "54      12 OZ     None      None  \n",
      "47      12 OZ     None      None  \n",
      "48      12 OZ     None      None  \n",
      "788     24 OZ     None      None  \n",
      "789     24 OZ     None      None  \n"
     ]
    }
   ],
   "source": [
    "print(items.sort_values(by='item_desc').head(25))"
   ]
  },
  {
   "cell_type": "code",
   "execution_count": 598,
   "id": "7e76e863-b322-43f3-8e9f-b992c62956b8",
   "metadata": {},
   "outputs": [],
   "source": [
    "# Replace multiple spaces\n",
    "items['item_desc'] = items['item_desc'].str.replace(r'\\s+', ' ', regex=True).str.strip()"
   ]
  },
  {
   "cell_type": "code",
   "execution_count": 599,
   "id": "3e8b16d5-8019-442e-9d39-e225a4e34e28",
   "metadata": {},
   "outputs": [
    {
     "name": "stdout",
     "output_type": "stream",
     "text": [
      "      item_code                       item_desc item_type     item_brand  \\\n",
      "77   7680850643              (S)BARILLA GEMELLI    Type 2        Barilla   \n",
      "75   7680850294             (S)BARILLA RIGATONI    Type 2        Barilla   \n",
      "666  5100012013       (S)PREGO RICOTTA PARMESAN    Type 3          Prego   \n",
      "763  3620001495       (S)RAGU CHNKY GRDNSTYL GR    Type 3           Ragu   \n",
      "253  7151800017            *HODGE WHEAT LASAGNA    Type 2  Hodgson Mills   \n",
      "252  7151800016          *HODGE WHEAT SPAGHETTI    Type 2  Hodgson Mills   \n",
      "3    3000005350        A J BTRMLK COMP PNCK MIX    Type 1    Aunt Jemima   \n",
      "797  3000005940           A J BUTTER RICH SYRUP    Type 4    Aunt Jemima   \n",
      "790  3000003660       A J COUNTRY RICH LT SYRUP    Type 4    Aunt Jemima   \n",
      "1    3000005070       A/JEM COMPLETE PANCAKE MI    Type 1    Aunt Jemima   \n",
      "799  3000005960            A/JEM SYRUP ORIGINAL    Type 4    Aunt Jemima   \n",
      "2    3000005300       AJ BUTTERMILK PANCAKE MIX    Type 1    Aunt Jemima   \n",
      "50   8147571412     AL DEN WHL WHEAT FETTUCCINE    Type 2       Al Dente   \n",
      "55   8147591234       AL DENTE 3 PEPPER FETTUCI    Type 2       Al Dente   \n",
      "49   8147557893        AL DENTE BASIL FETTUCINE    Type 2       Al Dente   \n",
      "46   8147532456          AL DENTE EGG FETTUCINI    Type 2       Al Dente   \n",
      "53   8147582014       AL DENTE FIESTA FETTUCINE    Type 2       Al Dente   \n",
      "56   8147599847         AL DENTE GARLIC PARSLEY    Type 2       Al Dente   \n",
      "52   8147572543       AL DENTE LEMON CHIVE FETT    Type 2       Al Dente   \n",
      "51   8147571687  AL DENTE RED CHILI PEPPER FETT    Type 2       Al Dente   \n",
      "54   8147590123        AL DENTE SESAME LINGUINI    Type 2       Al Dente   \n",
      "47   8147534789      AL DENTE SPINACH FETTUCINI    Type 2       Al Dente   \n",
      "48   8147546297       AL DENTE TOMATO FETTICINE    Type 2       Al Dente   \n",
      "788  1160000004       ALAGA REAL CANE FLV SYRUP    Type 4          Alaga   \n",
      "789  1160000413       ALAGA YELL LBL HNY FLV SY    Type 4          Alaga   \n",
      "\n",
      "    item_size item_uom item_note  \n",
      "77      16 OZ     None      None  \n",
      "75      16 OZ     None      None  \n",
      "666  28    OZ     None      None  \n",
      "763     45 OZ     None      None  \n",
      "253      8 OZ     None      None  \n",
      "252     16 OZ     None      None  \n",
      "3        1 LB     None      None  \n",
      "797     24 OZ     None      None  \n",
      "790     24 OZ     None      None  \n",
      "1    32    OZ     None      None  \n",
      "799  36    OZ     None      None  \n",
      "2       32 OZ     None      None  \n",
      "50      12 OZ     None      None  \n",
      "55      12 OZ     None      None  \n",
      "49      12 OZ     None      None  \n",
      "46      12 OZ     None      None  \n",
      "53      12 OZ     None      None  \n",
      "56      12 OZ     None      None  \n",
      "52      12 OZ     None      None  \n",
      "51      12 OZ     None      None  \n",
      "54      12 OZ     None      None  \n",
      "47      12 OZ     None      None  \n",
      "48      12 OZ     None      None  \n",
      "788     24 OZ     None      None  \n",
      "789     24 OZ     None      None  \n"
     ]
    }
   ],
   "source": [
    "print(items.sort_values(by='item_desc').head(25))"
   ]
  },
  {
   "cell_type": "code",
   "execution_count": 600,
   "id": "9a68660f-628b-4bf1-8a04-53f0f3b286c3",
   "metadata": {},
   "outputs": [
    {
     "data": {
      "text/plain": [
       "item_desc\n",
       "PRIVATE LABEL ELBOW MACARONI       6\n",
       "PRIVATE LABEL SPAGHETTI            4\n",
       "PREGO MUSHROOM SPAG SAUCE          3\n",
       "CLASSICO SUN DRIED TOMATO          3\n",
       "PRIVATE LABEL SPAGHETTI REGULAR    3\n",
       "                                  ..\n",
       "KRUSTEAZ COMP BM PANCAKE           1\n",
       "SPRTR SUGAR FREE SYRUP             1\n",
       "SPRNG TREE SF MAPLE SYRUP          1\n",
       "KRUSTEAZ BLUEBRY PANCAKE           1\n",
       "VERMONT S F PANCAKE SYRUP          1\n",
       "Name: count, Length: 871, dtype: int64"
      ]
     },
     "execution_count": 600,
     "metadata": {},
     "output_type": "execute_result"
    }
   ],
   "source": [
    "items[\"item_desc\"].value_counts()"
   ]
  },
  {
   "cell_type": "markdown",
   "id": "70e66498-1d29-4240-8f1d-516418e4b6d5",
   "metadata": {},
   "source": [
    "### Clean Brand Field"
   ]
  },
  {
   "cell_type": "code",
   "execution_count": 601,
   "id": "863fb902-0ba7-4e6d-a453-629793b8393b",
   "metadata": {},
   "outputs": [],
   "source": [
    "# Remove 'Type 2' and 'Type 3' from 'brand'\n",
    "items[\"item_brand\"] = items[\"item_brand\"].str.replace(r'Type [23]', '', regex=True).str.strip()"
   ]
  },
  {
   "cell_type": "code",
   "execution_count": 602,
   "id": "9a700c45-929b-47a5-aeed-4318c28400e0",
   "metadata": {},
   "outputs": [],
   "source": [
    "items['item_brand'] = items['item_brand'].str.replace(r'\\s+', ' ', regex=True).str.strip()"
   ]
  },
  {
   "cell_type": "code",
   "execution_count": 603,
   "id": "0c6a9f22-61cc-4b6a-9577-31471108f4f3",
   "metadata": {},
   "outputs": [
    {
     "data": {
      "text/plain": [
       "item_brand\n",
       "Private Label            71\n",
       "Barilla                  50\n",
       "Ragu                     47\n",
       "Private Label Premium    43\n",
       "Prego                    40\n",
       "                         ..\n",
       "Knott's                   1\n",
       "Moonlite                  1\n",
       "Lyles                     1\n",
       "Sobrab Bkstrp             1\n",
       "Vermont Gold              1\n",
       "Name: count, Length: 131, dtype: int64"
      ]
     },
     "execution_count": 603,
     "metadata": {},
     "output_type": "execute_result"
    }
   ],
   "source": [
    "items[\"item_brand\"].value_counts()"
   ]
  },
  {
   "cell_type": "code",
   "execution_count": 604,
   "id": "3e94a57d-3bc8-4676-aa50-3aa57892dc83",
   "metadata": {},
   "outputs": [
    {
     "name": "stdout",
     "output_type": "stream",
     "text": [
      "['Aunt Jemima' 'Bisquick' \"Bruce's\" 'Classique' 'Fastshake'\n",
      " 'Hodgson Mills' 'Hungry Jack' 'Krusteaz' 'Lund Swede' 'M W Flapstax'\n",
      " 'Maple Grove' 'Mrs Butterworth' 'Osem Bissli' 'Pioneer' 'Private Label'\n",
      " 'Private Label Premium' 'White Lily' 'Al Dente' 'Alessi' 'Annie Chns'\n",
      " \"Antoine's\" 'Arlow' 'Barilla' 'Barilla Plus' 'Bellino' 'Bionature'\n",
      " 'Cara Nona' 'Castelna' 'China Mandarin' 'Colavita' 'Creamette' 'Cucina'\n",
      " 'Darielle' 'DaVinci' 'Dececco' 'Defino' 'Dell Alpe' 'Dreamfield' 'Edd Og'\n",
      " 'Eddie' 'Eden' \"Elena's\" 'Farm Style' 'Ferrara' 'Gooch' 'Healthy Harvest'\n",
      " 'Kedem' 'Kraft' 'La Moderna' 'La Russa' 'Maggi Spaetzle' 'Mlinotst'\n",
      " \"Mother's\" 'Mrs Weiss' 'Mueller' 'No Yolks' 'Notta' 'Orzo' 'Shoppe'\n",
      " 'riso' 'Pennsylvania Dutch' 'Private Label Value' 'Quinoa' 'R&F' 'Raos'\n",
      " 'Ronzoni' 'San Giorgio' 'Sugar Buster' 'Vita' 'Wacky Mac' 'Amore'\n",
      " 'Annarino' 'B F' 'Bertolli' 'Boves' \"Brother's\" 'Buitoni' 'Candoni'\n",
      " 'Cento' 'Chef Pizza' 'Classico' \"Dave's\" 'Dell Amore' \"Emeril's\" 'Enrico'\n",
      " \"Hunt's\" \"Joey's\" 'Lucini' 'M C' 'Mayacmas' \"Mom's\" \"Newman's\" \"Patsy's\"\n",
      " 'Pomi' 'Prego' 'RAC' 'Ragu' 'Roselli' 'RR' 'San Marzano' 'Silver Palate'\n",
      " \"Sinatra's\" \"Vincent's\" 'Walnut Acres' 'Alaga' 'Braswell' 'Brier Rabbit'\n",
      " \"Cary's\" 'Cozy Cottage' 'Fifty 50' 'Golden Eagle' 'Grandma Molases'\n",
      " \"Howard's\" 'HSE' 'Karo' 'Kellogg' \"Knott's\" 'Log Cabin' 'Lyles'\n",
      " \"Michele's\" 'Miller' 'Moonlite' 'Northwoods' 'Pennant' 'Pine Mountain'\n",
      " 'Sand Mountain' 'Smuckers' 'Sobrab Bkstrp' 'Spring Tree' 'Tree of Life'\n",
      " 'Vermont Gold']\n"
     ]
    }
   ],
   "source": [
    "# Select distinct brands\n",
    "distinct_brands = items['item_brand'].unique()\n",
    "print(distinct_brands)"
   ]
  },
  {
   "cell_type": "markdown",
   "id": "30af9872-dddd-469e-b163-fbf0d8a73181",
   "metadata": {},
   "source": [
    "### Clean Size Column"
   ]
  },
  {
   "cell_type": "code",
   "execution_count": 605,
   "id": "4ae89c1e-3e44-449d-9e9e-c3088cc6276e",
   "metadata": {},
   "outputs": [
    {
     "name": "stdout",
     "output_type": "stream",
     "text": [
      "      item_code                       item_desc item_type     item_brand  \\\n",
      "22   1800028067       H J PANCK MX EX LITE COMP    Type 1    Hungry Jack   \n",
      "21   1800028066        H J BUTTERMILK PANCK MIX    Type 1    Hungry Jack   \n",
      "19   1800028064       H J PANCK BTRMLK COMP MIX    Type 1    Hungry Jack   \n",
      "911  7935400232   SAND MOUNTAIN REGULAR SORGHUM    Type 4  Sand Mountain   \n",
      "268  2682500951  LA RUSSA REGULAR EGG NOODLE PL    Type 2       La Russa   \n",
      "853  4300034901  LOG CABIN MAPLE PANCAKE/WAFFLE    Type 4      Log Cabin   \n",
      "925  3068434052  TREE OF LIFE REGULAR BLACKSTRA    Type 4   Tree of Life   \n",
      "491  2706457001  VITA SPELT WHOLE GRAIN EGG NOO    Type 2           Vita   \n",
      "924  3068434050  TREE OF LIFE REGULAR BLACKSTRA    Type 4   Tree of Life   \n",
      "613  8935363153       M C ARRIBIATA SAUCE 26 OZ    Type 3            M C   \n",
      "216  7546203420       DELL ALPE TORTELLINI 7 OZ    Type 2      Dell Alpe   \n",
      "614  7488810119            MAYACMAS PESTO SAUCE    Type 3       Mayacmas   \n",
      "197  2409407024               DE CECCO RIGATONI    Type 2        Dececco   \n",
      "435  7130000047              RONZONI ORZO NO 47    Type 2        Ronzoni   \n",
      "429  7130000017          RONZONI LINGUINE NO 17    Type 2        Ronzoni   \n",
      "124  3915341284         COLAVITA ELBO MACR ASST    Type 2       Colavita   \n",
      "167  7067000728        DA VINCI FUSILLI SPRINGS    Type 2        DaVinci   \n",
      "181  7067000751        DAVINCI ANGEL HAIR NESTS    Type 2        DaVinci   \n",
      "319  7065070052                  NOTTA LINGUINE    Type 2          Notta   \n",
      "122  3915321270              COLAVITA WIDE NEST    Type 2       Colavita   \n",
      "191  7067000877        DA VINCI ITL ORG BOWTIES    Type 2        DaVinci   \n",
      "304  2920000813        MUELLER O/F EGG NDL WIDE    Type 2        Mueller   \n",
      "189  7067000875          DA VINCI ITL ORG PENNE    Type 2        DaVinci   \n",
      "172  7067000733        DA VINCI ROSE MARIA ORZO    Type 2        DaVinci   \n",
      "173  7067000735       DA VINCI FARFALLE MEDIA B    Type 2        DaVinci   \n",
      "\n",
      "      item_size item_uom item_note  \n",
      "22                  None      None  \n",
      "21                  None      None  \n",
      "19                  None      None  \n",
      "911  ##########     None      None  \n",
      "268  ##########     None      None  \n",
      "853  ##########     None      None  \n",
      "925  ##########     None      None  \n",
      "491  ##########     None      None  \n",
      "924  ##########     None      None  \n",
      "613  %KH# 29483     None      None  \n",
      "216   %KH# 9390     None      None  \n",
      "614      .50 OZ     None      None  \n",
      "197        1 LB     None      None  \n",
      "435        1 LB     None      None  \n",
      "429        1 LB     None      None  \n",
      "124        1 LB     None      None  \n",
      "167        1 LB     None      None  \n",
      "181        1 LB     None      None  \n",
      "319        1 LB     None      None  \n",
      "122        1 LB     None      None  \n",
      "191        1 LB     None      None  \n",
      "304        1 LB     None      None  \n",
      "189        1 LB     None      None  \n",
      "172        1 LB     None      None  \n",
      "173        1 LB     None      None  \n"
     ]
    }
   ],
   "source": [
    "print(items.sort_values(by='item_size').head(25))"
   ]
  },
  {
   "cell_type": "code",
   "execution_count": 606,
   "id": "45b2cd8a-149d-4ced-82e8-9d72cc79ba17",
   "metadata": {},
   "outputs": [],
   "source": [
    "# Remove empty spaces\n",
    "items[\"item_size\"] = items[\"item_size\"].str.replace(r'\\s+', ' ', regex=True).str.strip()"
   ]
  },
  {
   "cell_type": "code",
   "execution_count": 607,
   "id": "6288492c-a0ef-4e48-bead-07ee414176c4",
   "metadata": {},
   "outputs": [
    {
     "name": "stdout",
     "output_type": "stream",
     "text": [
      "      item_code                         item_desc item_type  \\\n",
      "22   1800028067         H J PANCK MX EX LITE COMP    Type 1   \n",
      "19   1800028064         H J PANCK BTRMLK COMP MIX    Type 1   \n",
      "21   1800028066          H J BUTTERMILK PANCK MIX    Type 1   \n",
      "491  2706457001    VITA SPELT WHOLE GRAIN EGG NOO    Type 2   \n",
      "853  4300034901    LOG CABIN MAPLE PANCAKE/WAFFLE    Type 4   \n",
      "925  3068434052    TREE OF LIFE REGULAR BLACKSTRA    Type 4   \n",
      "268  2682500951    LA RUSSA REGULAR EGG NOODLE PL    Type 2   \n",
      "911  7935400232     SAND MOUNTAIN REGULAR SORGHUM    Type 4   \n",
      "924  3068434050    TREE OF LIFE REGULAR BLACKSTRA    Type 4   \n",
      "613  8935363153         M C ARRIBIATA SAUCE 26 OZ    Type 3   \n",
      "216  7546203420         DELL ALPE TORTELLINI 7 OZ    Type 2   \n",
      "614  7488810119              MAYACMAS PESTO SAUCE    Type 3   \n",
      "173  7067000735         DA VINCI FARFALLE MEDIA B    Type 2   \n",
      "172  7067000733          DA VINCI ROSE MARIA ORZO    Type 2   \n",
      "167  7067000728          DA VINCI FUSILLI SPRINGS    Type 2   \n",
      "122  3915321270                COLAVITA WIDE NEST    Type 2   \n",
      "287  2920000212                 MUELLER SPAGHETTI    Type 2   \n",
      "395  9999908451  PRIVATE LABEL X WIDE EGG NOODLES    Type 2   \n",
      "178  7067000741                   DA VINCI ROTINI    Type 2   \n",
      "188  7067000872         DA VINCI ITL ORG FETTUCIN    Type 2   \n",
      "319  7065070052                    NOTTA LINGUINE    Type 2   \n",
      "189  7067000875            DA VINCI ITL ORG PENNE    Type 2   \n",
      "64   7065070051                 ARLOWE SPAG NOTTA    Type 2   \n",
      "191  7067000877          DA VINCI ITL ORG BOWTIES    Type 2   \n",
      "197  2409407024                 DE CECCO RIGATONI    Type 2   \n",
      "\n",
      "              item_brand   item_size item_uom item_note  \n",
      "22           Hungry Jack                 None      None  \n",
      "19           Hungry Jack                 None      None  \n",
      "21           Hungry Jack                 None      None  \n",
      "491                 Vita  ##########     None      None  \n",
      "853            Log Cabin  ##########     None      None  \n",
      "925         Tree of Life  ##########     None      None  \n",
      "268             La Russa  ##########     None      None  \n",
      "911        Sand Mountain  ##########     None      None  \n",
      "924         Tree of Life  ##########     None      None  \n",
      "613                  M C  %KH# 29483     None      None  \n",
      "216            Dell Alpe   %KH# 9390     None      None  \n",
      "614             Mayacmas      .50 OZ     None      None  \n",
      "173              DaVinci        1 LB     None      None  \n",
      "172              DaVinci        1 LB     None      None  \n",
      "167              DaVinci        1 LB     None      None  \n",
      "122             Colavita        1 LB     None      None  \n",
      "287              Mueller        1 LB     None      None  \n",
      "395  Private Label Value        1 LB     None      None  \n",
      "178              DaVinci        1 LB     None      None  \n",
      "188              DaVinci        1 LB     None      None  \n",
      "319                Notta        1 LB     None      None  \n",
      "189              DaVinci        1 LB     None      None  \n",
      "64                 Arlow        1 LB     None      None  \n",
      "191              DaVinci        1 LB     None      None  \n",
      "197              Dececco        1 LB     None      None  \n"
     ]
    }
   ],
   "source": [
    "print(items.sort_values(by='item_size').head(25))"
   ]
  },
  {
   "cell_type": "code",
   "execution_count": 608,
   "id": "d0f85a5c-3c29-4546-96a3-9878c3e247c1",
   "metadata": {},
   "outputs": [],
   "source": [
    "# Replace ########## with NaN\n",
    "items['item_size'] = items['item_size'].replace('##########', np.nan)"
   ]
  },
  {
   "cell_type": "code",
   "execution_count": 609,
   "id": "9e3825b8-33b4-422c-b188-279feec62037",
   "metadata": {},
   "outputs": [],
   "source": [
    "# Replace empty strings with NaN\n",
    "items[\"item_size\"] = items[\"item_size\"].replace(\"\", np.nan)"
   ]
  },
  {
   "cell_type": "code",
   "execution_count": 610,
   "id": "473c0dd8-dd2a-4c6e-8b54-28f7145e25d2",
   "metadata": {},
   "outputs": [
    {
     "name": "stdout",
     "output_type": "stream",
     "text": [
      "      item_code                  item_desc item_type   item_brand   item_size  \\\n",
      "613  8935363153  M C ARRIBIATA SAUCE 26 OZ    Type 3          M C  %KH# 29483   \n",
      "216  7546203420  DELL ALPE TORTELLINI 7 OZ    Type 2    Dell Alpe   %KH# 9390   \n",
      "614  7488810119       MAYACMAS PESTO SAUCE    Type 3     Mayacmas      .50 OZ   \n",
      "461  3340060148     SAN GRGO ACINI DI PEPE    Type 2  San Giorgio        1 LB   \n",
      "468  3340060179   SAN GRGO RIPPLED LASAGNA    Type 2  San Giorgio        1 LB   \n",
      "178  7067000741            DA VINCI ROTINI    Type 2      DaVinci        1 LB   \n",
      "458  3340060125        SAN GIORGIO ROTELLE    Type 2  San Giorgio        1 LB   \n",
      "181  7067000751   DAVINCI ANGEL HAIR NESTS    Type 2      DaVinci        1 LB   \n",
      "435  7130000047         RONZONI ORZO NO 47    Type 2      Ronzoni        1 LB   \n",
      "188  7067000872  DA VINCI ITL ORG FETTUCIN    Type 2      DaVinci        1 LB   \n",
      "189  7067000875     DA VINCI ITL ORG PENNE    Type 2      DaVinci        1 LB   \n",
      "319  7065070052             NOTTA LINGUINE    Type 2        Notta        1 LB   \n",
      "191  7067000877   DA VINCI ITL ORG BOWTIES    Type 2      DaVinci        1 LB   \n",
      "440  7130000080   RONZONI CURLY LASAGNE NO    Type 2      Ronzoni        1 LB   \n",
      "197  2409407024          DE CECCO RIGATONI    Type 2      Dececco        1 LB   \n",
      "64   7065070051          ARLOWE SPAG NOTTA    Type 2        Arlow        1 LB   \n",
      "167  7067000728   DA VINCI FUSILLI SPRINGS    Type 2      DaVinci        1 LB   \n",
      "173  7067000735  DA VINCI FARFALLE MEDIA B    Type 2      DaVinci        1 LB   \n",
      "465  3340060176            SAN GRGO ROTINI    Type 2  San Giorgio        1 LB   \n",
      "122  3915321270         COLAVITA WIDE NEST    Type 2     Colavita        1 LB   \n",
      "295  2920000301            MUELLER LASAGNE    Type 2      Mueller        1 LB   \n",
      "3    3000005350   A J BTRMLK COMP PNCK MIX    Type 1  Aunt Jemima        1 LB   \n",
      "293  2920000218         MUELLER VERMICELLI    Type 2      Mueller        1 LB   \n",
      "304  2920000813   MUELLER O/F EGG NDL WIDE    Type 2      Mueller        1 LB   \n",
      "164  7067000725   DA VINCI SPAG/VERMICELLI    Type 2      DaVinci        1 LB   \n",
      "\n",
      "    item_uom item_note  \n",
      "613     None      None  \n",
      "216     None      None  \n",
      "614     None      None  \n",
      "461     None      None  \n",
      "468     None      None  \n",
      "178     None      None  \n",
      "458     None      None  \n",
      "181     None      None  \n",
      "435     None      None  \n",
      "188     None      None  \n",
      "189     None      None  \n",
      "319     None      None  \n",
      "191     None      None  \n",
      "440     None      None  \n",
      "197     None      None  \n",
      "64      None      None  \n",
      "167     None      None  \n",
      "173     None      None  \n",
      "465     None      None  \n",
      "122     None      None  \n",
      "295     None      None  \n",
      "3       None      None  \n",
      "293     None      None  \n",
      "304     None      None  \n",
      "164     None      None  \n"
     ]
    }
   ],
   "source": [
    "print(items.sort_values(by='item_size').head(25))"
   ]
  },
  {
   "cell_type": "code",
   "execution_count": 611,
   "id": "743c29ae-8fc3-49e5-b6ef-519834baeb22",
   "metadata": {},
   "outputs": [],
   "source": [
    "# Remove percent sign\n",
    "items[\"item_size\"] = items[\"item_size\"].str.replace('%', '', regex=False)"
   ]
  },
  {
   "cell_type": "code",
   "execution_count": 612,
   "id": "1857108d-1547-4b1a-ac0f-35d0dd232ffa",
   "metadata": {},
   "outputs": [
    {
     "name": "stdout",
     "output_type": "stream",
     "text": [
      "      item_code                         item_desc item_type  \\\n",
      "614  7488810119              MAYACMAS PESTO SAUCE    Type 3   \n",
      "468  3340060179          SAN GRGO RIPPLED LASAGNA    Type 2   \n",
      "398  9999981175  PRIVATE LABEL X WIDE EGG NOODLES    Type 2   \n",
      "164  7067000725          DA VINCI SPAG/VERMICELLI    Type 2   \n",
      "167  7067000728          DA VINCI FUSILLI SPRINGS    Type 2   \n",
      "395  9999908451  PRIVATE LABEL X WIDE EGG NOODLES    Type 2   \n",
      "293  2920000218                MUELLER VERMICELLI    Type 2   \n",
      "173  7067000735         DA VINCI FARFALLE MEDIA B    Type 2   \n",
      "178  7067000741                   DA VINCI ROTINI    Type 2   \n",
      "181  7067000751          DAVINCI ANGEL HAIR NESTS    Type 2   \n",
      "188  7067000872         DA VINCI ITL ORG FETTUCIN    Type 2   \n",
      "189  7067000875            DA VINCI ITL ORG PENNE    Type 2   \n",
      "319  7065070052                    NOTTA LINGUINE    Type 2   \n",
      "191  7067000877          DA VINCI ITL ORG BOWTIES    Type 2   \n",
      "197  2409407024                 DE CECCO RIGATONI    Type 2   \n",
      "64   7065070051                 ARLOWE SPAG NOTTA    Type 2   \n",
      "131  1510000014          CREAMETTE ROTINI RAINBOW    Type 2   \n",
      "287  2920000212                 MUELLER SPAGHETTI    Type 2   \n",
      "304  2920000813          MUELLER O/F EGG NDL WIDE    Type 2   \n",
      "162  7067000722               DA VINCI FETTUCCINE    Type 2   \n",
      "429  7130000017            RONZONI LINGUINE NO 17    Type 2   \n",
      "172  7067000733          DA VINCI ROSE MARIA ORZO    Type 2   \n",
      "295  2920000301                   MUELLER LASAGNE    Type 2   \n",
      "465  3340060176                   SAN GRGO ROTINI    Type 2   \n",
      "3    3000005350          A J BTRMLK COMP PNCK MIX    Type 1   \n",
      "\n",
      "              item_brand item_size item_uom item_note  \n",
      "614             Mayacmas    .50 OZ     None      None  \n",
      "468          San Giorgio      1 LB     None      None  \n",
      "398  Private Label Value      1 LB     None      None  \n",
      "164              DaVinci      1 LB     None      None  \n",
      "167              DaVinci      1 LB     None      None  \n",
      "395  Private Label Value      1 LB     None      None  \n",
      "293              Mueller      1 LB     None      None  \n",
      "173              DaVinci      1 LB     None      None  \n",
      "178              DaVinci      1 LB     None      None  \n",
      "181              DaVinci      1 LB     None      None  \n",
      "188              DaVinci      1 LB     None      None  \n",
      "189              DaVinci      1 LB     None      None  \n",
      "319                Notta      1 LB     None      None  \n",
      "191              DaVinci      1 LB     None      None  \n",
      "197              Dececco      1 LB     None      None  \n",
      "64                 Arlow      1 LB     None      None  \n",
      "131            Creamette      1 LB     None      None  \n",
      "287              Mueller      1 LB     None      None  \n",
      "304              Mueller      1 LB     None      None  \n",
      "162              DaVinci      1 LB     None      None  \n",
      "429              Ronzoni      1 LB     None      None  \n",
      "172              DaVinci      1 LB     None      None  \n",
      "295              Mueller      1 LB     None      None  \n",
      "465          San Giorgio      1 LB     None      None  \n",
      "3            Aunt Jemima      1 LB     None      None  \n"
     ]
    }
   ],
   "source": [
    "print(items.sort_values(by='item_size').head(25))"
   ]
  },
  {
   "cell_type": "code",
   "execution_count": 613,
   "id": "cc85f83c-6aea-4c5d-a085-c06e731e2a5f",
   "metadata": {},
   "outputs": [],
   "source": [
    "# Move 'size' values to 'notes' for specific cases\n",
    "# Apply the condition\n",
    "condition = items['item_size'].str.startswith('KH') | items['item_size'].isin(['CUST REQST', 'NO TAG'])\n",
    "\n",
    "# Update the DataFrame\n",
    "items.loc[condition, 'item_note'] = items.loc[condition, 'item_size']\n",
    "items.loc[condition, 'item_size'] = np.nan"
   ]
  },
  {
   "cell_type": "code",
   "execution_count": 614,
   "id": "fa1a989e-7b8b-4635-970e-08b1018f6927",
   "metadata": {},
   "outputs": [
    {
     "name": "stdout",
     "output_type": "stream",
     "text": [
      "      item_code                  item_desc item_type     item_brand item_size  \\\n",
      "63   7075304162   ANTOINES CAVATAPPI 12 OZ    Type 2      Antoine's       NaN   \n",
      "91   7680851708  BARILLA JUMBO SHELS 12 OZ    Type 2        Barilla       NaN   \n",
      "161  7067000721     DA VINCI LASAGNA 16 OZ    Type 2        DaVinci       NaN   \n",
      "194  2409407009     DECECCO CAPELLINI 16OZ    Type 2        Dececco       NaN   \n",
      "195  2409407011   DECECCO SPAGHETTINI 16OZ    Type 2        Dececco       NaN   \n",
      "196  2409407012     DECECCO SPAGHETTI 16OZ    Type 2        Dececco       NaN   \n",
      "198  2409407034       DECECCO FUSILLI 16OZ    Type 2        Dececco       NaN   \n",
      "199  2409407040  DECECCO PENNE REGATE 16OZ    Type 2        Dececco       NaN   \n",
      "200  2409407041  DECECCO PENNE RIGATE 16OZ    Type 2        Dececco       NaN   \n",
      "216  7546203420  DELL ALPE TORTELLINI 7 OZ    Type 2      Dell Alpe       NaN   \n",
      "221  7546203810  DEL ALPE EGG FETTUCINE 8Z    Type 2      Dell Alpe       NaN   \n",
      "223  7546203814  D A TRI COLR FETTUCINE 8Z    Type 2      Dell Alpe       NaN   \n",
      "227  7546203826   DEL ALPE ANGEL HAIR 8 OZ    Type 2      Dell Alpe       NaN   \n",
      "258  7151800024  HODG MILL WHO WHT SPIRALS    Type 2  Hodgson Mills       NaN   \n",
      "261  7151800030  H M WHL WHT RADIATORE 16Z    Type 2  Hodgson Mills       NaN   \n",
      "401  8912527000        QUINOA W/F SHELL 8Z    Type 2         Quinoa       NaN   \n",
      "527   923100002   BOVES RSTD GRL SCE 26 OZ    Type 3          Boves       NaN   \n",
      "613  8935363153  M C ARRIBIATA SAUCE 26 OZ    Type 3            M C       NaN   \n",
      "619  9690602524  MOMS PUTTANESCA SCE 24 OZ    Type 3          Mom's       NaN   \n",
      "638  6971911431  PATSYS PUTTANESCA SCE 24Z    Type 3        Patsy's       NaN   \n",
      "640  6971911531   PATSYS VODKA SAUCE 24 OZ    Type 3        Patsy's       NaN   \n",
      "645  6971941400  PATSY ROASTED ONION 12 OZ    Type 3        Patsy's       NaN   \n",
      "726  8939710379   RAC FIRE RST SPC PPRS 3Z    Type 3            RAC       NaN   \n",
      "\n",
      "    item_uom   item_note  \n",
      "63      None    KH# 2793  \n",
      "91      None  CUST REQST  \n",
      "161     None    KH# 6862  \n",
      "194     None    KH# 8652  \n",
      "195     None    KH# 8651  \n",
      "196     None    KH# 8623  \n",
      "198     None   KH# 13384  \n",
      "199     None    KH# 8525  \n",
      "200     None    KH# 8627  \n",
      "216     None    KH# 9390  \n",
      "221     None   KH# 18280  \n",
      "223     None   KH# 18283  \n",
      "227     None   KH# 18277  \n",
      "258     None      NO TAG  \n",
      "261     None   KH# 20749  \n",
      "401     None   KH# 39724  \n",
      "527     None   KH# 71916  \n",
      "613     None   KH# 29483  \n",
      "619     None   KH# 58442  \n",
      "638     None   KH# 61780  \n",
      "640     None   KH# 61779  \n",
      "645     None   KH# 69333  \n",
      "726     None   KH# 68255  \n"
     ]
    }
   ],
   "source": [
    "# Check the result\n",
    "print(items[items['item_note'].notna()].sort_values(by='item_size').head(25))"
   ]
  },
  {
   "cell_type": "code",
   "execution_count": 615,
   "id": "16f3c053-d5e8-46be-b66f-1be89929d2d1",
   "metadata": {},
   "outputs": [],
   "source": [
    "# Extract values from 'description' where 'item_notes' is not None\n",
    "condition = items[\"item_note\"].apply(lambda x: x is not None)\n",
    "\n",
    "# Regex: find first numeric character and everything after\n",
    "items.loc[condition, \"item_size\"] = items.loc[condition, \"item_desc\"].str.extract(r'(\\d.*)')[0]\n",
    "\n",
    "# Extract everything LEFT of the first numeric character and trim spaces\n",
    "items.loc[condition, \"item_desc\"] = (\n",
    "    items.loc[condition, \"item_desc\"]\n",
    "    .str.extract(r'^(.*?)(?=\\d)')[0]  # Extract text before the first numeric character\n",
    "    .fillna(items.loc[condition, \"item_desc\"])  # Keep original if no number exists\n",
    "    .str.strip()  # Trim leading and trailing spaces\n",
    ")"
   ]
  },
  {
   "cell_type": "code",
   "execution_count": 616,
   "id": "c8f98faf-ddb7-4e87-bf15-bea38d0b5102",
   "metadata": {},
   "outputs": [
    {
     "name": "stdout",
     "output_type": "stream",
     "text": [
      "      item_code                  item_desc item_type     item_brand item_size  \\\n",
      "63   7075304162         ANTOINES CAVATAPPI    Type 2      Antoine's     12 OZ   \n",
      "91   7680851708        BARILLA JUMBO SHELS    Type 2        Barilla     12 OZ   \n",
      "161  7067000721           DA VINCI LASAGNA    Type 2        DaVinci     16 OZ   \n",
      "194  2409407009          DECECCO CAPELLINI    Type 2        Dececco      16OZ   \n",
      "195  2409407011        DECECCO SPAGHETTINI    Type 2        Dececco      16OZ   \n",
      "196  2409407012          DECECCO SPAGHETTI    Type 2        Dececco      16OZ   \n",
      "198  2409407034            DECECCO FUSILLI    Type 2        Dececco      16OZ   \n",
      "199  2409407040       DECECCO PENNE REGATE    Type 2        Dececco      16OZ   \n",
      "200  2409407041       DECECCO PENNE RIGATE    Type 2        Dececco      16OZ   \n",
      "216  7546203420       DELL ALPE TORTELLINI    Type 2      Dell Alpe      7 OZ   \n",
      "221  7546203810     DEL ALPE EGG FETTUCINE    Type 2      Dell Alpe        8Z   \n",
      "223  7546203814     D A TRI COLR FETTUCINE    Type 2      Dell Alpe        8Z   \n",
      "227  7546203826        DEL ALPE ANGEL HAIR    Type 2      Dell Alpe      8 OZ   \n",
      "258  7151800024  HODG MILL WHO WHT SPIRALS    Type 2  Hodgson Mills       NaN   \n",
      "261  7151800030      H M WHL WHT RADIATORE    Type 2  Hodgson Mills       16Z   \n",
      "401  8912527000           QUINOA W/F SHELL    Type 2         Quinoa        8Z   \n",
      "527   923100002         BOVES RSTD GRL SCE    Type 3          Boves     26 OZ   \n",
      "613  8935363153        M C ARRIBIATA SAUCE    Type 3            M C     26 OZ   \n",
      "619  9690602524        MOMS PUTTANESCA SCE    Type 3          Mom's     24 OZ   \n",
      "638  6971911431      PATSYS PUTTANESCA SCE    Type 3        Patsy's       24Z   \n",
      "640  6971911531         PATSYS VODKA SAUCE    Type 3        Patsy's     24 OZ   \n",
      "645  6971941400        PATSY ROASTED ONION    Type 3        Patsy's     12 OZ   \n",
      "726  8939710379      RAC FIRE RST SPC PPRS    Type 3            RAC        3Z   \n",
      "\n",
      "    item_uom   item_note  \n",
      "63      None    KH# 2793  \n",
      "91      None  CUST REQST  \n",
      "161     None    KH# 6862  \n",
      "194     None    KH# 8652  \n",
      "195     None    KH# 8651  \n",
      "196     None    KH# 8623  \n",
      "198     None   KH# 13384  \n",
      "199     None    KH# 8525  \n",
      "200     None    KH# 8627  \n",
      "216     None    KH# 9390  \n",
      "221     None   KH# 18280  \n",
      "223     None   KH# 18283  \n",
      "227     None   KH# 18277  \n",
      "258     None      NO TAG  \n",
      "261     None   KH# 20749  \n",
      "401     None   KH# 39724  \n",
      "527     None   KH# 71916  \n",
      "613     None   KH# 29483  \n",
      "619     None   KH# 58442  \n",
      "638     None   KH# 61780  \n",
      "640     None   KH# 61779  \n",
      "645     None   KH# 69333  \n",
      "726     None   KH# 68255  \n"
     ]
    }
   ],
   "source": [
    "print(items[items[\"item_note\"].apply(lambda x: x is not None)])"
   ]
  },
  {
   "cell_type": "code",
   "execution_count": 617,
   "id": "d00dc2cc-e203-486e-8b31-930cc65dcb39",
   "metadata": {},
   "outputs": [
    {
     "data": {
      "text/plain": [
       "item_size\n",
       "16 OZ       225\n",
       "26 OZ       120\n",
       "12 OZ       104\n",
       "24 OZ        53\n",
       "8 OZ         38\n",
       "           ... \n",
       "36 FL OZ      1\n",
       "40 OZ         1\n",
       "36 OZ.        1\n",
       "20 OZ         1\n",
       "14.5 OZ       1\n",
       "Name: count, Length: 110, dtype: int64"
      ]
     },
     "execution_count": 617,
     "metadata": {},
     "output_type": "execute_result"
    }
   ],
   "source": [
    "items[\"item_size\"].value_counts()"
   ]
  },
  {
   "cell_type": "code",
   "execution_count": 618,
   "id": "a8a38c3f-51a1-45b8-a8ab-df6a4a40cc70",
   "metadata": {},
   "outputs": [
    {
     "name": "stdout",
     "output_type": "stream",
     "text": [
      "['2 LB' '32 OZ' '1 LB' '6.75 OZ' '7 OZ' '7.75 OZ' '1.5 LB' '16 OZ' '5 OZ'\n",
      " '10.5 OZ' nan '37 OZ' '28 OZ' '12.00Z' '5.5 OZ' '24 OUNCE' '24 OZ'\n",
      " '2.5 OZ' '6 1/2 OZ' '12 OZ' '8.5 OZ' '8 OZ' '16 OUNCE' '9 OZ' '12 OUNCE'\n",
      " '16OZ' '15 OZ' '14 OZ' '13 OZ' '13OZ FMLY' '6.5 OZ' '12.7 OZ' '17.6 OZ'\n",
      " '10 OZ' 'N 1 LB' '16 Z' '17.5 OZ' 'P 16 OZ' 'P 12 OZ' 'P 1 LB' '17 OZ'\n",
      " '8Z' '13.25 OZ' '16.00 OZ' 'N 16 OZ' '16Z' '7.25 OZ' '8 OUNCE' '3LB'\n",
      " '17.7 OZ' '6 OZ' '10OZ' 'N 7 OZ' '32OZ' '48 OZ' '8.8 OZ' '4 LB'\n",
      " 'SO 16 OZ' 'CR 16 OZ' '3.5 OZ' '2.8 OZ' '31.5 OZ' '31 1/2 OZ' '26 OZ'\n",
      " '26 OUNCE' '23OZ' '6.3 OZ' '26.5 OZ' '25 OZ' 'P 25 OZ' '15.5 OZ'\n",
      " '25.5 OZ' '.50 OZ' '1.1 OZ' 'CR 14 OZ' '24Z' '11.6' '27.75 OZ' '67 OZ'\n",
      " '25.75 OZ' '25.6 OZ' '27.50 OZ' '27.5 OZ' '3 LB' '26.50 OZ' '3Z' '26 OZ.'\n",
      " '26.3 OZ' '6 LB 11 OZ' '45 OZ' '45 OZ PET' '45 OZ.' '25.3 OZ'\n",
      " '12.5 FL OZ' '36 OZ' '12 FL OZ' '12.5 OZ' '27.6 OZ' 'GAL' '23 OZ'\n",
      " 'P 24 OZ' '24 FL OZ' '24OZ' '10.6 OZ' '16.9 OZ' '19 OZ' '36 FL OZ'\n",
      " '40 OZ' '36 OZ.' '20 OZ' '14.5 OZ']\n"
     ]
    }
   ],
   "source": [
    "# Select distinct sizes\n",
    "distinct_sizes = items['item_size'].unique()\n",
    "print(distinct_sizes)"
   ]
  },
  {
   "cell_type": "code",
   "execution_count": 619,
   "id": "85cf4db4-c234-4727-88aa-be393f22be30",
   "metadata": {},
   "outputs": [
    {
     "name": "stdout",
     "output_type": "stream",
     "text": [
      "      item_code                     item_desc item_type     item_brand  \\\n",
      "128  1510000007      CREAMETTE ELBOW MACARONI    Type 2      Creamette   \n",
      "130  1510000013          CREAMETTE VERMICELLI    Type 2      Creamette   \n",
      "166  7067000727             DA VINCI RIGATONI    Type 2        DaVinci   \n",
      "179  7067000742         DA VINCI JUMBO SHELLS    Type 2        DaVinci   \n",
      "190  7067000876       DA VINCI ITL ORG ROTINI    Type 2        DaVinci   \n",
      "257  7151800023      H M WHL WHEAT FETTUCCINI    Type 2  Hodgson Mills   \n",
      "260  7151800026        HOD MILL VEGGIE ROTINI    Type 2  Hodgson Mills   \n",
      "320  7065070053              NOTTA FETTUCCINE    Type 2          Notta   \n",
      "336  9999985001  PRIVATE LABEL THIN SPAGHETTI    Type 2  Private Label   \n",
      "427  7130000011             RONZONI CAPELLINI    Type 2        Ronzoni   \n",
      "437  7130000066              RONZONI BOW TIES    Type 2        Ronzoni   \n",
      "455  3340060109       SAN GRGO THIN SPAGHETTI    Type 2    San Giorgio   \n",
      "456  3340060110         SAN GIORGIO VERMICELI    Type 2    San Giorgio   \n",
      "485  3340061198      SAN GRGO FETTUCCINI NDLS    Type 2    San Giorgio   \n",
      "490  3261211705          SUGAR BUSTER SPIRALS    Type 2   Sugar Buster   \n",
      "596  7468309950     EMERILS KCKD UP TOMATO SC    Type 3       Emeril's   \n",
      "617  9690600614     TIMPONES MOMS SPGHTTI SCE    Type 3          Mom's   \n",
      "834  6172005180                KARO RED SYRUP    Type 4           Karo   \n",
      "842  4300000026           LOG CABIN SYRUP REG    Type 4      Log Cabin   \n",
      "844  4300000037           LOG CABIN SYRUP REG    Type 4      Log Cabin   \n",
      "896  9999966070  PRIVATE LABEL BUTTERED SYRUP    Type 4  Private Label   \n",
      "922  3905955112     SPRNG TREE SF MAPLE SYRUP    Type 4    Spring Tree   \n",
      "\n",
      "    item_size item_uom item_note  \n",
      "128    N 1 LB     None      None  \n",
      "130    N 1 LB     None      None  \n",
      "166   P 16 OZ     None      None  \n",
      "179   P 12 OZ     None      None  \n",
      "190    P 1 LB     None      None  \n",
      "257   P 12 OZ     None      None  \n",
      "260   N 16 OZ     None      None  \n",
      "320    P 1 LB     None      None  \n",
      "336    N 7 OZ     None      None  \n",
      "427  SO 16 OZ     None      None  \n",
      "437  CR 16 OZ     None      None  \n",
      "455    P 1 LB     None      None  \n",
      "456   P 16 OZ     None      None  \n",
      "485   P 12 OZ     None      None  \n",
      "490  CR 16 OZ     None      None  \n",
      "596   P 25 OZ     None      None  \n",
      "617  CR 14 OZ     None      None  \n",
      "834       GAL     None      None  \n",
      "842   P 24 OZ     None      None  \n",
      "844   P 24 OZ     None      None  \n",
      "896   P 24 OZ     None      None  \n",
      "922   P 24 OZ     None      None  \n"
     ]
    }
   ],
   "source": [
    "# Filter rows where 'size' starts with alphabetic characters only\n",
    "print(items[items[\"item_size\"].str.match(r'^[A-Za-z]', na=False)])"
   ]
  },
  {
   "cell_type": "code",
   "execution_count": 620,
   "id": "99a9445c-7036-48f9-b035-cf2fa1e10e94",
   "metadata": {},
   "outputs": [],
   "source": [
    "# Extract values from 'size' where 'size' starts with alphabetic characters only\n",
    "condition = items[\"item_size\"].str.match(r'^[A-Za-z]', na=False)\n",
    "\n",
    "# Extract everything LEFT of the first numeric character and trim spaces\n",
    "items.loc[condition, \"item_note\"] = (\n",
    "    items.loc[condition, \"item_size\"]\n",
    "    .str.extract(r'^(.*?)(?=\\d)')[0]  # Extract text before the first numeric character\n",
    "    .fillna(items.loc[condition, \"item_size\"])  # Keep original if no number exists\n",
    "    .str.strip()  # Trim leading and trailing spaces\n",
    ")\n",
    "\n",
    "# Extract everything RIGHT of the first numeric character (including that number)\n",
    "items.loc[condition, \"item_size\"] = (\n",
    "    items.loc[condition, \"item_size\"]\n",
    "    .str.extract(r'(\\d.*)')[0]  # Extract the first numeric character and everything after\n",
    "    .fillna(items.loc[condition, \"item_size\"])  # Keep original if no number exists\n",
    ")"
   ]
  },
  {
   "cell_type": "code",
   "execution_count": 621,
   "id": "27d2efcb-7d9b-4d74-abb9-8deb33377a2a",
   "metadata": {},
   "outputs": [
    {
     "name": "stdout",
     "output_type": "stream",
     "text": [
      "      item_code       item_desc item_type item_brand item_size item_uom  \\\n",
      "834  6172005180  KARO RED SYRUP    Type 4       Karo       GAL     None   \n",
      "\n",
      "    item_note  \n",
      "834       GAL  \n"
     ]
    }
   ],
   "source": [
    "# Filter rows where 'size' starts with alphabetic characters only\n",
    "print(items[items[\"item_size\"].str.match(r'^[A-Za-z]', na=False)])"
   ]
  },
  {
   "cell_type": "code",
   "execution_count": 622,
   "id": "424add2e-73af-42c7-a776-e7b24d2a10eb",
   "metadata": {},
   "outputs": [],
   "source": [
    "items.loc[items['item_size'] == 'GAL', 'item_size'] = '1 GAL'"
   ]
  },
  {
   "cell_type": "code",
   "execution_count": 623,
   "id": "44c4d416-6554-4580-83b3-9cd0e9cf020a",
   "metadata": {},
   "outputs": [
    {
     "name": "stdout",
     "output_type": "stream",
     "text": [
      "Empty DataFrame\n",
      "Columns: [item_code, item_desc, item_type, item_brand, item_size, item_uom, item_note]\n",
      "Index: []\n"
     ]
    }
   ],
   "source": [
    "# Filter rows where 'size' starts with alphabetic characters only\n",
    "print(items[items[\"item_size\"].str.match(r'^[A-Za-z]', na=False)])"
   ]
  },
  {
   "cell_type": "code",
   "execution_count": 624,
   "id": "f301de20-38c8-4a06-92ea-a3803722ab49",
   "metadata": {},
   "outputs": [
    {
     "name": "stdout",
     "output_type": "stream",
     "text": [
      "['2 LB' '32 OZ' '1 LB' '6.75 OZ' '7 OZ' '7.75 OZ' '1.5 LB' '16 OZ' '5 OZ'\n",
      " '10.5 OZ' nan '37 OZ' '28 OZ' '12.00Z' '5.5 OZ' '24 OUNCE' '24 OZ'\n",
      " '2.5 OZ' '6 1/2 OZ' '12 OZ' '8.5 OZ' '8 OZ' '16 OUNCE' '9 OZ' '12 OUNCE'\n",
      " '16OZ' '15 OZ' '14 OZ' '13 OZ' '13OZ FMLY' '6.5 OZ' '12.7 OZ' '17.6 OZ'\n",
      " '10 OZ' '16 Z' '17.5 OZ' '17 OZ' '8Z' '13.25 OZ' '16.00 OZ' '16Z'\n",
      " '7.25 OZ' '8 OUNCE' '3LB' '17.7 OZ' '6 OZ' '10OZ' '32OZ' '48 OZ' '8.8 OZ'\n",
      " '4 LB' '3.5 OZ' '2.8 OZ' '31.5 OZ' '31 1/2 OZ' '26 OZ' '26 OUNCE' '23OZ'\n",
      " '6.3 OZ' '26.5 OZ' '25 OZ' '15.5 OZ' '25.5 OZ' '.50 OZ' '1.1 OZ' '24Z'\n",
      " '11.6' '27.75 OZ' '67 OZ' '25.75 OZ' '25.6 OZ' '27.50 OZ' '27.5 OZ'\n",
      " '3 LB' '26.50 OZ' '3Z' '26 OZ.' '26.3 OZ' '6 LB 11 OZ' '45 OZ'\n",
      " '45 OZ PET' '45 OZ.' '25.3 OZ' '12.5 FL OZ' '36 OZ' '12 FL OZ' '12.5 OZ'\n",
      " '27.6 OZ' '1 GAL' '23 OZ' '24 FL OZ' '24OZ' '10.6 OZ' '16.9 OZ' '19 OZ'\n",
      " '36 FL OZ' '40 OZ' '36 OZ.' '20 OZ' '14.5 OZ']\n"
     ]
    }
   ],
   "source": [
    "# Select distinct sizes\n",
    "distinct_sizes = items['item_size'].unique()\n",
    "print(distinct_sizes)"
   ]
  },
  {
   "cell_type": "code",
   "execution_count": 625,
   "id": "dd3558cf-2075-4539-a8e2-6371f87dc978",
   "metadata": {},
   "outputs": [
    {
     "name": "stdout",
     "output_type": "stream",
     "text": [
      "      item_code                 item_desc item_type  item_brand  item_size  \\\n",
      "44   3250041100  WHT LILY BLUBRY PNCK MIX    Type 1  White Lily   6 1/2 OZ   \n",
      "499  2472200005   ANNARINO MUSHROOM SAUCE    Type 3    Annarino  31 1/2 OZ   \n",
      "\n",
      "    item_uom item_note  \n",
      "44      None      None  \n",
      "499     None      None  \n"
     ]
    }
   ],
   "source": [
    "print(items[items[\"item_size\"].str.contains(\"/\", na=False)])"
   ]
  },
  {
   "cell_type": "code",
   "execution_count": 626,
   "id": "a2929cb3-5c5e-447d-b087-abc997eaf3a1",
   "metadata": {},
   "outputs": [],
   "source": [
    "# Subsitute 1/2\n",
    "items['item_size'] = items['item_size'].str.replace(' 1/2', '.5', regex=False)"
   ]
  },
  {
   "cell_type": "code",
   "execution_count": 627,
   "id": "6321296f-dfcb-4fc4-8b24-48ffd31538ce",
   "metadata": {},
   "outputs": [
    {
     "name": "stdout",
     "output_type": "stream",
     "text": [
      "Empty DataFrame\n",
      "Columns: [item_code, item_desc, item_type, item_brand, item_size, item_uom, item_note]\n",
      "Index: []\n"
     ]
    }
   ],
   "source": [
    "print(items[items[\"item_size\"].str.contains(\"/\", na=False)])"
   ]
  },
  {
   "cell_type": "code",
   "execution_count": 628,
   "id": "65e7e1b4-0ce8-4c58-84bd-a4568fda74c9",
   "metadata": {},
   "outputs": [
    {
     "name": "stdout",
     "output_type": "stream",
     "text": [
      "['2 LB' '32 OZ' '1 LB' '6.75 OZ' '7 OZ' '7.75 OZ' '1.5 LB' '16 OZ' '5 OZ'\n",
      " '10.5 OZ' nan '37 OZ' '28 OZ' '12.00Z' '5.5 OZ' '24 OUNCE' '24 OZ'\n",
      " '2.5 OZ' '6.5 OZ' '12 OZ' '8.5 OZ' '8 OZ' '16 OUNCE' '9 OZ' '12 OUNCE'\n",
      " '16OZ' '15 OZ' '14 OZ' '13 OZ' '13OZ FMLY' '12.7 OZ' '17.6 OZ' '10 OZ'\n",
      " '16 Z' '17.5 OZ' '17 OZ' '8Z' '13.25 OZ' '16.00 OZ' '16Z' '7.25 OZ'\n",
      " '8 OUNCE' '3LB' '17.7 OZ' '6 OZ' '10OZ' '32OZ' '48 OZ' '8.8 OZ' '4 LB'\n",
      " '3.5 OZ' '2.8 OZ' '31.5 OZ' '26 OZ' '26 OUNCE' '23OZ' '6.3 OZ' '26.5 OZ'\n",
      " '25 OZ' '15.5 OZ' '25.5 OZ' '.50 OZ' '1.1 OZ' '24Z' '11.6' '27.75 OZ'\n",
      " '67 OZ' '25.75 OZ' '25.6 OZ' '27.50 OZ' '27.5 OZ' '3 LB' '26.50 OZ' '3Z'\n",
      " '26 OZ.' '26.3 OZ' '6 LB 11 OZ' '45 OZ' '45 OZ PET' '45 OZ.' '25.3 OZ'\n",
      " '12.5 FL OZ' '36 OZ' '12 FL OZ' '12.5 OZ' '27.6 OZ' '1 GAL' '23 OZ'\n",
      " '24 FL OZ' '24OZ' '10.6 OZ' '16.9 OZ' '19 OZ' '36 FL OZ' '40 OZ' '36 OZ.'\n",
      " '20 OZ' '14.5 OZ']\n"
     ]
    }
   ],
   "source": [
    "# Select distinct sizes\n",
    "distinct_sizes = items['item_size'].unique()\n",
    "print(distinct_sizes)"
   ]
  },
  {
   "cell_type": "code",
   "execution_count": 629,
   "id": "89ba9ad7-0e07-48e3-b1c9-365223842aaa",
   "metadata": {},
   "outputs": [],
   "source": [
    "# Specific replacements\n",
    "items.loc[items[\"item_size\"] == \"13 OZ FMLY\", [\"item_size\", \"item_note\"]] = [\"13 OZ\", \"FMLY\"]\n",
    "items.loc[items[\"item_size\"] == \"45 OZ PET\", [\"item_size\", \"item_note\"]] = [\"45 OZ\", \"PET\"]\n",
    "items.loc[items[\"item_size\"] == \"6 LB 11 OZ\", \"item_size\"] = \"107 OZ\""
   ]
  },
  {
   "cell_type": "code",
   "execution_count": 630,
   "id": "f6af9d2e-7073-41a9-8065-c9e8251c82ec",
   "metadata": {},
   "outputs": [],
   "source": [
    "# Extract the first alphabetic character and everything after it into item_uom\n",
    "items['item_uom'] = items['item_size'].str.extract(r'([A-Za-z].*)')\n",
    "\n",
    "# Extract numeric part of size and assign to size\n",
    "items.loc[items[\"item_size\"].str.contains(r'[0-9]', na=False), \"item_size\"] = items[\"item_size\"].str.extract(r'(\\d+\\.?\\d*)')[0]"
   ]
  },
  {
   "cell_type": "code",
   "execution_count": 631,
   "id": "c96fdf2b-5685-40af-87f8-24966bee6de4",
   "metadata": {},
   "outputs": [
    {
     "name": "stdout",
     "output_type": "stream",
     "text": [
      "['2' '32' '1' '6.75' '7' '7.75' '1.5' '16' '5' '10.5' nan '37' '28'\n",
      " '12.00' '5.5' '24' '2.5' '6.5' '12' '8.5' '8' '9' '15' '14' '13' '12.7'\n",
      " '17.6' '10' '17.5' '17' '13.25' '16.00' '7.25' '3' '17.7' '6' '48' '8.8'\n",
      " '4' '3.5' '2.8' '31.5' '26' '23' '6.3' '26.5' '25' '15.5' '25.5' '50'\n",
      " '1.1' '11.6' '27.75' '67' '25.75' '25.6' '27.50' '27.5' '26.50' '26.3'\n",
      " '107' '45' '25.3' '12.5' '36' '27.6' '10.6' '16.9' '19' '40' '20' '14.5']\n"
     ]
    }
   ],
   "source": [
    "# Select distinct sizes\n",
    "distinct_sizes = items['item_size'].unique()\n",
    "print(distinct_sizes)"
   ]
  },
  {
   "cell_type": "code",
   "execution_count": 632,
   "id": "306c2560-e592-4755-89dd-3630cf03d1c3",
   "metadata": {},
   "outputs": [
    {
     "data": {
      "text/plain": [
       "item_size\n",
       "16      242\n",
       "26      122\n",
       "12      111\n",
       "24       62\n",
       "8        42\n",
       "       ... \n",
       "10.6      1\n",
       "16.9      1\n",
       "40        1\n",
       "20        1\n",
       "14.5      1\n",
       "Name: count, Length: 71, dtype: int64"
      ]
     },
     "execution_count": 632,
     "metadata": {},
     "output_type": "execute_result"
    }
   ],
   "source": [
    "items[\"item_size\"].value_counts()"
   ]
  },
  {
   "cell_type": "code",
   "execution_count": 633,
   "id": "31a992b6-7e3d-47b6-ace8-37106f877404",
   "metadata": {},
   "outputs": [
    {
     "name": "stdout",
     "output_type": "stream",
     "text": [
      "      item_code                       item_desc item_type    item_brand  \\\n",
      "0    3000005040   AUNT JEM ORIGINAL PANCAKE MIX    Type 1   Aunt Jemima   \n",
      "1    3000005070       A/JEM COMPLETE PANCAKE MI    Type 1   Aunt Jemima   \n",
      "2    3000005300       AJ BUTTERMILK PANCAKE MIX    Type 1   Aunt Jemima   \n",
      "3    3000005350        A J BTRMLK COMP PNCK MIX    Type 1   Aunt Jemima   \n",
      "4    1600015760       BC PANCAKE MIX BUTTERMILK    Type 1      Bisquick   \n",
      "..          ...                             ...       ...           ...   \n",
      "922  3905955112       SPRNG TREE SF MAPLE SYRUP    Type 4   Spring Tree   \n",
      "923  3905972884         SPRING TREE MAPLE SYRUP    Type 4   Spring Tree   \n",
      "924  3068434050  TREE OF LIFE REGULAR BLACKSTRA    Type 4  Tree of Life   \n",
      "925  3068434052  TREE OF LIFE REGULAR BLACKSTRA    Type 4  Tree of Life   \n",
      "926  6138914020          VRMT GLD PURE MPL SYRP    Type 4  Vermont Gold   \n",
      "\n",
      "     item_size item_uom item_note  \n",
      "0         2.00       LB      None  \n",
      "1        32.00       OZ      None  \n",
      "2        32.00       OZ      None  \n",
      "3         1.00       LB      None  \n",
      "4         6.75       OZ      None  \n",
      "..         ...      ...       ...  \n",
      "922      24.00       OZ         P  \n",
      "923       8.50       OZ      None  \n",
      "924        NaN      NaN      None  \n",
      "925        NaN      NaN      None  \n",
      "926       8.50       OZ      None  \n",
      "\n",
      "[927 rows x 7 columns]\n",
      "item_code       int64\n",
      "item_desc      object\n",
      "item_type      object\n",
      "item_brand     object\n",
      "item_size     float64\n",
      "item_uom       object\n",
      "item_note      object\n",
      "dtype: object\n"
     ]
    }
   ],
   "source": [
    "# Convert 'size' column to float\n",
    "items['item_size'] = items['item_size'].astype(float)\n",
    "\n",
    "# Display the DataFrame and its data types\n",
    "print(items)\n",
    "print(items.dtypes)"
   ]
  },
  {
   "cell_type": "code",
   "execution_count": 634,
   "id": "61aa2a8f-4158-4e19-821b-ab134c833849",
   "metadata": {},
   "outputs": [
    {
     "name": "stdout",
     "output_type": "stream",
     "text": [
      "['LB' 'OZ' nan 'Z' 'OUNCE' 'OZ FMLY' 'OZ.' 'FL OZ' 'GAL']\n"
     ]
    }
   ],
   "source": [
    "# Select distinct sizes\n",
    "distinct_uom_values = items['item_uom'].unique()\n",
    "print(distinct_uom_values)"
   ]
  },
  {
   "cell_type": "code",
   "execution_count": 635,
   "id": "905ddecd-5ae1-43a1-b2a9-8ee00f60b85b",
   "metadata": {},
   "outputs": [],
   "source": [
    "# Normalize unit names\n",
    "items[\"item_uom\"] = items[\"item_uom\"].replace({\"OUNCE\": \"OZ\", \"OZ.\": \"OZ\", \"Z\": \"OZ\", \"OZ FMLY\": \"OZ\"})"
   ]
  },
  {
   "cell_type": "code",
   "execution_count": 636,
   "id": "3c17b6a1-1bfc-45da-b1e3-aee1c61ed984",
   "metadata": {},
   "outputs": [
    {
     "data": {
      "text/plain": [
       "item_uom\n",
       "OZ       853\n",
       "LB        56\n",
       "FL OZ      5\n",
       "GAL        1\n",
       "Name: count, dtype: int64"
      ]
     },
     "execution_count": 636,
     "metadata": {},
     "output_type": "execute_result"
    }
   ],
   "source": [
    "items[\"item_uom\"].value_counts()"
   ]
  },
  {
   "cell_type": "code",
   "execution_count": 637,
   "id": "18cc0436-f2a6-47f1-ba54-57c23da13581",
   "metadata": {},
   "outputs": [],
   "source": [
    "# Save cleaned data\n",
    "items.to_csv(\"items_cleaned.csv\", index=False)  # Replace with actual storage method"
   ]
  },
  {
   "cell_type": "code",
   "execution_count": null,
   "id": "28f9dfe9-2428-4154-9d73-bc0b3cb8d40a",
   "metadata": {},
   "outputs": [],
   "source": []
  }
 ],
 "metadata": {
  "kernelspec": {
   "display_name": "Python 3 (ipykernel)",
   "language": "python",
   "name": "python3"
  },
  "language_info": {
   "codemirror_mode": {
    "name": "ipython",
    "version": 3
   },
   "file_extension": ".py",
   "mimetype": "text/x-python",
   "name": "python",
   "nbconvert_exporter": "python",
   "pygments_lexer": "ipython3",
   "version": "3.12.2"
  }
 },
 "nbformat": 4,
 "nbformat_minor": 5
}
