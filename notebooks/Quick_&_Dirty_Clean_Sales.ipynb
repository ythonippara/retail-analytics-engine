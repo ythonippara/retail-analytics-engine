{
 "cells": [
  {
   "cell_type": "code",
   "execution_count": 2,
   "id": "4569fd05-785a-45a7-8078-0eaa506f79ea",
   "metadata": {},
   "outputs": [],
   "source": [
    "import os\n",
    "import pandas as pd\n",
    "import numpy as np\n",
    "from datetime import datetime"
   ]
  },
  {
   "cell_type": "code",
   "execution_count": 3,
   "id": "678d54a3-7e65-450c-9822-416b3232f999",
   "metadata": {},
   "outputs": [
    {
     "name": "stdout",
     "output_type": "stream",
     "text": [
      "2.2.2\n"
     ]
    }
   ],
   "source": [
    "print(np.__version__)"
   ]
  },
  {
   "cell_type": "markdown",
   "id": "d793112f-ca1c-4555-bb91-1f8e118259e0",
   "metadata": {},
   "source": [
    "### Import Files & Check Datatypes"
   ]
  },
  {
   "cell_type": "code",
   "execution_count": 4,
   "id": "9f56523a-8f98-45d8-90d9-658b7ea10393",
   "metadata": {},
   "outputs": [
    {
     "name": "stdout",
     "output_type": "stream",
     "text": [
      "True\n"
     ]
    }
   ],
   "source": [
    "print(os.path.exists(r\"C:\\Data\\middleby-de-assignment\\de_assignment_resources\\sales.csv\"))"
   ]
  },
  {
   "cell_type": "code",
   "execution_count": 5,
   "id": "b369ea8e-daef-488a-9ed3-95e791f04888",
   "metadata": {},
   "outputs": [],
   "source": [
    "sales = pd.read_csv(r\"C:\\Data\\middleby-de-assignment\\de_assignment_resources\\sales.csv\")"
   ]
  },
  {
   "cell_type": "code",
   "execution_count": 6,
   "id": "971516d7-86a0-4946-bf49-019cc8d5d012",
   "metadata": {},
   "outputs": [
    {
     "name": "stdout",
     "output_type": "stream",
     "text": [
      "          code  amount  units  time  province  week  customerId  supermarket  \\\n",
      "0   7680850106    0.80      1  1100         2     1      125434          244   \n",
      "1   3620000470    3.59      1  1100         2     1      125434          244   \n",
      "2   1800028064    2.25      1  1137         2     1      108320          244   \n",
      "3   9999985067    0.85      1  1148         2     1      162016          244   \n",
      "4   9999985131    2.19      1  1323         2     1       89437          244   \n",
      "5   5100002794    2.19      1  1323         2     1       89437          244   \n",
      "6   1800000957    3.45      1  1415         2     1      158549          244   \n",
      "7   9999985051    1.29      1  1415         2     1      158549          244   \n",
      "8   9999985053    0.75      1  1513         2     1       18851          244   \n",
      "9   3620000446    2.19      1  1523         2     1      118337          244   \n",
      "10  3000005620    3.65      1  1624         2     1        8283          244   \n",
      "11  3340060177    1.50      1  1624         2     1        8283          244   \n",
      "12  4112907712    3.65      1  1624         2     1        8283          244   \n",
      "13  5100015056    3.19      1  1711         2     1      125537          244   \n",
      "14  9999985001    0.45      1  1711         2     1      125537          244   \n",
      "15  9999985047    0.75      1  1738         2     1        6074          244   \n",
      "16  1510000236    1.19      1  1754         2     1      108013          244   \n",
      "17  3620000446    2.19      1  1754         2     1      108013          244   \n",
      "18  2066200020    2.79      1  1815         2     1       53674          244   \n",
      "19  9999985070    0.79      1  1815         2     1       53674          244   \n",
      "20  9999985067    0.85      1  1815         2     1       53674          244   \n",
      "21  5100005045    2.19      1  1834         2     1       69963          244   \n",
      "22  9999985071    0.79      1  1838         2     1      113524          244   \n",
      "23  5100001212    2.19      1  1838         2     1      113524          244   \n",
      "24  9999985766    1.79      1  1934         2     1      168571          244   \n",
      "\n",
      "    basket  day  voucher  \n",
      "0        1    1        0  \n",
      "1        1    1        0  \n",
      "2        2    1        0  \n",
      "3        3    1        0  \n",
      "4        4    1        0  \n",
      "5        4    1        0  \n",
      "6        5    1        0  \n",
      "7        5    1        0  \n",
      "8        6    1        0  \n",
      "9        7    1        0  \n",
      "10       8    1        0  \n",
      "11       8    1        0  \n",
      "12       8    1        0  \n",
      "13       9    1        0  \n",
      "14       9    1        0  \n",
      "15      10    1        0  \n",
      "16      11    1        0  \n",
      "17      11    1        0  \n",
      "18      12    1        0  \n",
      "19      12    1        0  \n",
      "20      12    1        0  \n",
      "21      13    1        0  \n",
      "22      14    1        0  \n",
      "23      14    1        0  \n",
      "24      15    1        0  \n"
     ]
    }
   ],
   "source": [
    "# Display the first 25 rows\n",
    "print(sales.head(25))"
   ]
  },
  {
   "cell_type": "code",
   "execution_count": 7,
   "id": "ae5ec45d-ea42-416d-a9db-375ba1797a68",
   "metadata": {},
   "outputs": [
    {
     "name": "stdout",
     "output_type": "stream",
     "text": [
      "<class 'pandas.core.frame.DataFrame'>\n",
      "RangeIndex: 1048575 entries, 0 to 1048574\n",
      "Data columns (total 11 columns):\n",
      " #   Column       Non-Null Count    Dtype  \n",
      "---  ------       --------------    -----  \n",
      " 0   code         1048575 non-null  int64  \n",
      " 1   amount       1048575 non-null  float64\n",
      " 2   units        1048575 non-null  int64  \n",
      " 3   time         1048575 non-null  int64  \n",
      " 4   province     1048575 non-null  int64  \n",
      " 5   week         1048575 non-null  int64  \n",
      " 6   customerId   1048575 non-null  int64  \n",
      " 7   supermarket  1048575 non-null  int64  \n",
      " 8   basket       1048575 non-null  int64  \n",
      " 9   day          1048575 non-null  int64  \n",
      " 10  voucher      1048575 non-null  int64  \n",
      "dtypes: float64(1), int64(10)\n",
      "memory usage: 88.0 MB\n"
     ]
    }
   ],
   "source": [
    "sales.info()"
   ]
  },
  {
   "cell_type": "code",
   "execution_count": 8,
   "id": "233fe46f-7bd0-4984-91f1-56bba27e34c5",
   "metadata": {},
   "outputs": [
    {
     "data": {
      "text/plain": [
       "code\n",
       "9999985020    18009\n",
       "9999985004    17703\n",
       "3620000250    17238\n",
       "9999985068    14756\n",
       "9999985021    11118\n",
       "              ...  \n",
       "7468390200        1\n",
       "6971911731        1\n",
       "566300029         1\n",
       "2920000813        1\n",
       "2682500951        1\n",
       "Name: count, Length: 782, dtype: int64"
      ]
     },
     "execution_count": 8,
     "metadata": {},
     "output_type": "execute_result"
    }
   ],
   "source": [
    "# 479 individual items under a promotion\n",
    "sales[\"code\"].value_counts()"
   ]
  },
  {
   "cell_type": "code",
   "execution_count": 9,
   "id": "fc48f428-df5f-441f-b430-a52ea672c123",
   "metadata": {},
   "outputs": [
    {
     "data": {
      "text/plain": [
       "amount\n",
       " 0.99     113373\n",
       " 1.99      68498\n",
       " 1.19      51427\n",
       " 1.50      50129\n",
       " 0.79      44778\n",
       "           ...  \n",
       " 27.96         1\n",
       " 25.00         1\n",
       "-1.41          1\n",
       " 4.06          1\n",
       " 2.57          1\n",
       "Name: count, Length: 971, dtype: int64"
      ]
     },
     "execution_count": 9,
     "metadata": {},
     "output_type": "execute_result"
    }
   ],
   "source": [
    "# 381 supermarkets participating\n",
    "sales[\"amount\"].value_counts()"
   ]
  },
  {
   "cell_type": "code",
   "execution_count": 10,
   "id": "577b74f9-7f74-43eb-94c5-290b1d8879a9",
   "metadata": {},
   "outputs": [
    {
     "data": {
      "text/plain": [
       "units\n",
       "1      889944\n",
       "2      134427\n",
       "3       15725\n",
       "4        5995\n",
       "5        1102\n",
       "6         833\n",
       "8         180\n",
       "10        104\n",
       "7         100\n",
       "9          53\n",
       "12         42\n",
       "11         15\n",
       "14          7\n",
       "15          6\n",
       "20          6\n",
       "16          6\n",
       "13          5\n",
       "24          4\n",
       "30          4\n",
       "19          3\n",
       "18          2\n",
       "17          2\n",
       "23          2\n",
       "25          2\n",
       "100         1\n",
       "29          1\n",
       "31          1\n",
       "26          1\n",
       "34          1\n",
       "22          1\n",
       "Name: count, dtype: int64"
      ]
     },
     "execution_count": 10,
     "metadata": {},
     "output_type": "execute_result"
    }
   ],
   "source": [
    "sales[\"units\"].value_counts()"
   ]
  },
  {
   "cell_type": "code",
   "execution_count": 11,
   "id": "8c057db9-1a06-43cc-a95b-1627cebae25b",
   "metadata": {},
   "outputs": [
    {
     "data": {
      "text/plain": [
       "time\n",
       "1738    2027\n",
       "1734    2025\n",
       "1718    2025\n",
       "1713    2023\n",
       "1745    2020\n",
       "        ... \n",
       "434        5\n",
       "343        5\n",
       "435        4\n",
       "422        4\n",
       "438        2\n",
       "Name: count, Length: 1440, dtype: int64"
      ]
     },
     "execution_count": 11,
     "metadata": {},
     "output_type": "execute_result"
    }
   ],
   "source": [
    "sales[\"time\"].value_counts()"
   ]
  },
  {
   "cell_type": "code",
   "execution_count": 12,
   "id": "d7dc4275-1337-4c52-a7c9-56e77b752183",
   "metadata": {},
   "outputs": [
    {
     "data": {
      "text/plain": [
       "province\n",
       "1    585761\n",
       "2    462814\n",
       "Name: count, dtype: int64"
      ]
     },
     "execution_count": 12,
     "metadata": {},
     "output_type": "execute_result"
    }
   ],
   "source": [
    "sales[\"province\"].value_counts()"
   ]
  },
  {
   "cell_type": "code",
   "execution_count": 13,
   "id": "51e2ace1-dff4-4631-8ac8-ebce51831bde",
   "metadata": {},
   "outputs": [
    {
     "data": {
      "text/plain": [
       "week\n",
       "27    72804\n",
       "12    62488\n",
       "3     54344\n",
       "4     53512\n",
       "26    52976\n",
       "13    49905\n",
       "25    49664\n",
       "7     49608\n",
       "8     47702\n",
       "6     47036\n",
       "15    46973\n",
       "23    46956\n",
       "14    44014\n",
       "5     43824\n",
       "1     43148\n",
       "11    43044\n",
       "24    42737\n",
       "2     42443\n",
       "16    39012\n",
       "9     27909\n",
       "17    25407\n",
       "10    21164\n",
       "28    20983\n",
       "18    15066\n",
       "22     5856\n",
       "Name: count, dtype: int64"
      ]
     },
     "execution_count": 13,
     "metadata": {},
     "output_type": "execute_result"
    }
   ],
   "source": [
    "sales[\"week\"].value_counts()"
   ]
  },
  {
   "cell_type": "code",
   "execution_count": 14,
   "id": "a993967d-1f9b-473f-a3fa-60b1255c6cf1",
   "metadata": {},
   "outputs": [
    {
     "data": {
      "text/plain": [
       "customerId\n",
       "369388    88\n",
       "293395    83\n",
       "265319    77\n",
       "56869     74\n",
       "28955     72\n",
       "          ..\n",
       "63120      1\n",
       "223267     1\n",
       "377449     1\n",
       "193713     1\n",
       "268836     1\n",
       "Name: count, Length: 249610, dtype: int64"
      ]
     },
     "execution_count": 14,
     "metadata": {},
     "output_type": "execute_result"
    }
   ],
   "source": [
    "sales[\"customerId\"].value_counts()"
   ]
  },
  {
   "cell_type": "code",
   "execution_count": 15,
   "id": "e07f53f9-9fb8-4c8b-8899-43ca071ee01e",
   "metadata": {},
   "outputs": [
    {
     "data": {
      "text/plain": [
       "supermarket\n",
       "270    6978\n",
       "71     6859\n",
       "359    6805\n",
       "326    6488\n",
       "371    6392\n",
       "       ... \n",
       "236     672\n",
       "370     622\n",
       "299     562\n",
       "120     528\n",
       "13      472\n",
       "Name: count, Length: 376, dtype: int64"
      ]
     },
     "execution_count": 15,
     "metadata": {},
     "output_type": "execute_result"
    }
   ],
   "source": [
    "sales[\"supermarket\"].value_counts()"
   ]
  },
  {
   "cell_type": "code",
   "execution_count": 16,
   "id": "a4f4d006-5139-4075-bc2c-0ef629e70363",
   "metadata": {},
   "outputs": [
    {
     "data": {
      "text/plain": [
       "basket\n",
       "304689    24\n",
       "564677    21\n",
       "178970    17\n",
       "361216    16\n",
       "304281    15\n",
       "          ..\n",
       "665427     1\n",
       "665428     1\n",
       "665433     1\n",
       "665438     1\n",
       "665440     1\n",
       "Name: count, Length: 665450, dtype: int64"
      ]
     },
     "execution_count": 16,
     "metadata": {},
     "output_type": "execute_result"
    }
   ],
   "source": [
    "sales[\"basket\"].value_counts()"
   ]
  },
  {
   "cell_type": "code",
   "execution_count": 17,
   "id": "87b5156b-33db-4de3-bed6-bb4bf9ca1ca6",
   "metadata": {},
   "outputs": [
    {
     "data": {
      "text/plain": [
       "day\n",
       "189    13659\n",
       "183    12090\n",
       "78     11091\n",
       "84     10669\n",
       "184    10487\n",
       "       ...  \n",
       "60      2412\n",
       "66      2389\n",
       "153       30\n",
       "124       23\n",
       "195       17\n",
       "Name: count, Length: 166, dtype: int64"
      ]
     },
     "execution_count": 17,
     "metadata": {},
     "output_type": "execute_result"
    }
   ],
   "source": [
    "sales[\"day\"].value_counts()"
   ]
  },
  {
   "cell_type": "code",
   "execution_count": 18,
   "id": "4b5bf153-acde-4211-bae9-f1bfd6c87137",
   "metadata": {},
   "outputs": [
    {
     "data": {
      "text/plain": [
       "voucher\n",
       "0    1023868\n",
       "1      24707\n",
       "Name: count, dtype: int64"
      ]
     },
     "execution_count": 18,
     "metadata": {},
     "output_type": "execute_result"
    }
   ],
   "source": [
    "sales[\"voucher\"].value_counts()"
   ]
  },
  {
   "cell_type": "code",
   "execution_count": 19,
   "id": "37ec7fc7-3baf-4374-be41-9c2179049e8e",
   "metadata": {},
   "outputs": [
    {
     "data": {
      "text/html": [
       "<div>\n",
       "<style scoped>\n",
       "    .dataframe tbody tr th:only-of-type {\n",
       "        vertical-align: middle;\n",
       "    }\n",
       "\n",
       "    .dataframe tbody tr th {\n",
       "        vertical-align: top;\n",
       "    }\n",
       "\n",
       "    .dataframe thead th {\n",
       "        text-align: right;\n",
       "    }\n",
       "</style>\n",
       "<table border=\"1\" class=\"dataframe\">\n",
       "  <thead>\n",
       "    <tr style=\"text-align: right;\">\n",
       "      <th></th>\n",
       "      <th>code</th>\n",
       "      <th>amount</th>\n",
       "      <th>units</th>\n",
       "      <th>time</th>\n",
       "      <th>province</th>\n",
       "      <th>week</th>\n",
       "      <th>customerId</th>\n",
       "      <th>supermarket</th>\n",
       "      <th>basket</th>\n",
       "      <th>day</th>\n",
       "      <th>voucher</th>\n",
       "    </tr>\n",
       "  </thead>\n",
       "  <tbody>\n",
       "    <tr>\n",
       "      <th>count</th>\n",
       "      <td>1.048575e+06</td>\n",
       "      <td>1.048575e+06</td>\n",
       "      <td>1.048575e+06</td>\n",
       "      <td>1.048575e+06</td>\n",
       "      <td>1.048575e+06</td>\n",
       "      <td>1.048575e+06</td>\n",
       "      <td>1.048575e+06</td>\n",
       "      <td>1.048575e+06</td>\n",
       "      <td>1.048575e+06</td>\n",
       "      <td>1.048575e+06</td>\n",
       "      <td>1.048575e+06</td>\n",
       "    </tr>\n",
       "    <tr>\n",
       "      <th>mean</th>\n",
       "      <td>6.067646e+09</td>\n",
       "      <td>1.780470e+00</td>\n",
       "      <td>1.188219e+00</td>\n",
       "      <td>1.543165e+03</td>\n",
       "      <td>1.441374e+00</td>\n",
       "      <td>1.347071e+01</td>\n",
       "      <td>2.003481e+05</td>\n",
       "      <td>1.980431e+02</td>\n",
       "      <td>3.333491e+05</td>\n",
       "      <td>9.119343e+01</td>\n",
       "      <td>2.356245e-02</td>\n",
       "    </tr>\n",
       "    <tr>\n",
       "      <th>std</th>\n",
       "      <td>3.154184e+09</td>\n",
       "      <td>5.966503e+00</td>\n",
       "      <td>5.466197e-01</td>\n",
       "      <td>3.833751e+02</td>\n",
       "      <td>4.965514e-01</td>\n",
       "      <td>8.549682e+00</td>\n",
       "      <td>1.247446e+05</td>\n",
       "      <td>1.122828e+02</td>\n",
       "      <td>1.917741e+05</td>\n",
       "      <td>5.983773e+01</td>\n",
       "      <td>1.516815e-01</td>\n",
       "    </tr>\n",
       "    <tr>\n",
       "      <th>min</th>\n",
       "      <td>1.111124e+08</td>\n",
       "      <td>-8.280000e+00</td>\n",
       "      <td>1.000000e+00</td>\n",
       "      <td>0.000000e+00</td>\n",
       "      <td>1.000000e+00</td>\n",
       "      <td>1.000000e+00</td>\n",
       "      <td>1.000000e+00</td>\n",
       "      <td>1.000000e+00</td>\n",
       "      <td>1.000000e+00</td>\n",
       "      <td>1.000000e+00</td>\n",
       "      <td>0.000000e+00</td>\n",
       "    </tr>\n",
       "    <tr>\n",
       "      <th>25%</th>\n",
       "      <td>3.620000e+09</td>\n",
       "      <td>9.900000e-01</td>\n",
       "      <td>1.000000e+00</td>\n",
       "      <td>1.259000e+03</td>\n",
       "      <td>1.000000e+00</td>\n",
       "      <td>6.000000e+00</td>\n",
       "      <td>9.211700e+04</td>\n",
       "      <td>1.010000e+02</td>\n",
       "      <td>1.681505e+05</td>\n",
       "      <td>3.900000e+01</td>\n",
       "      <td>0.000000e+00</td>\n",
       "    </tr>\n",
       "    <tr>\n",
       "      <th>50%</th>\n",
       "      <td>5.100003e+09</td>\n",
       "      <td>1.500000e+00</td>\n",
       "      <td>1.000000e+00</td>\n",
       "      <td>1.601000e+03</td>\n",
       "      <td>1.000000e+00</td>\n",
       "      <td>1.200000e+01</td>\n",
       "      <td>1.905030e+05</td>\n",
       "      <td>2.000000e+02</td>\n",
       "      <td>3.318470e+05</td>\n",
       "      <td>8.300000e+01</td>\n",
       "      <td>0.000000e+00</td>\n",
       "    </tr>\n",
       "    <tr>\n",
       "      <th>75%</th>\n",
       "      <td>9.999982e+09</td>\n",
       "      <td>2.190000e+00</td>\n",
       "      <td>1.000000e+00</td>\n",
       "      <td>1.824000e+03</td>\n",
       "      <td>2.000000e+00</td>\n",
       "      <td>2.300000e+01</td>\n",
       "      <td>3.039840e+05</td>\n",
       "      <td>2.950000e+02</td>\n",
       "      <td>5.000225e+05</td>\n",
       "      <td>1.570000e+02</td>\n",
       "      <td>0.000000e+00</td>\n",
       "    </tr>\n",
       "    <tr>\n",
       "      <th>max</th>\n",
       "      <td>9.999986e+09</td>\n",
       "      <td>5.900000e+03</td>\n",
       "      <td>1.000000e+02</td>\n",
       "      <td>2.359000e+03</td>\n",
       "      <td>2.000000e+00</td>\n",
       "      <td>2.800000e+01</td>\n",
       "      <td>5.100270e+05</td>\n",
       "      <td>3.850000e+02</td>\n",
       "      <td>6.654500e+05</td>\n",
       "      <td>1.950000e+02</td>\n",
       "      <td>1.000000e+00</td>\n",
       "    </tr>\n",
       "  </tbody>\n",
       "</table>\n",
       "</div>"
      ],
      "text/plain": [
       "               code        amount         units          time      province  \\\n",
       "count  1.048575e+06  1.048575e+06  1.048575e+06  1.048575e+06  1.048575e+06   \n",
       "mean   6.067646e+09  1.780470e+00  1.188219e+00  1.543165e+03  1.441374e+00   \n",
       "std    3.154184e+09  5.966503e+00  5.466197e-01  3.833751e+02  4.965514e-01   \n",
       "min    1.111124e+08 -8.280000e+00  1.000000e+00  0.000000e+00  1.000000e+00   \n",
       "25%    3.620000e+09  9.900000e-01  1.000000e+00  1.259000e+03  1.000000e+00   \n",
       "50%    5.100003e+09  1.500000e+00  1.000000e+00  1.601000e+03  1.000000e+00   \n",
       "75%    9.999982e+09  2.190000e+00  1.000000e+00  1.824000e+03  2.000000e+00   \n",
       "max    9.999986e+09  5.900000e+03  1.000000e+02  2.359000e+03  2.000000e+00   \n",
       "\n",
       "               week    customerId   supermarket        basket           day  \\\n",
       "count  1.048575e+06  1.048575e+06  1.048575e+06  1.048575e+06  1.048575e+06   \n",
       "mean   1.347071e+01  2.003481e+05  1.980431e+02  3.333491e+05  9.119343e+01   \n",
       "std    8.549682e+00  1.247446e+05  1.122828e+02  1.917741e+05  5.983773e+01   \n",
       "min    1.000000e+00  1.000000e+00  1.000000e+00  1.000000e+00  1.000000e+00   \n",
       "25%    6.000000e+00  9.211700e+04  1.010000e+02  1.681505e+05  3.900000e+01   \n",
       "50%    1.200000e+01  1.905030e+05  2.000000e+02  3.318470e+05  8.300000e+01   \n",
       "75%    2.300000e+01  3.039840e+05  2.950000e+02  5.000225e+05  1.570000e+02   \n",
       "max    2.800000e+01  5.100270e+05  3.850000e+02  6.654500e+05  1.950000e+02   \n",
       "\n",
       "            voucher  \n",
       "count  1.048575e+06  \n",
       "mean   2.356245e-02  \n",
       "std    1.516815e-01  \n",
       "min    0.000000e+00  \n",
       "25%    0.000000e+00  \n",
       "50%    0.000000e+00  \n",
       "75%    0.000000e+00  \n",
       "max    1.000000e+00  "
      ]
     },
     "execution_count": 19,
     "metadata": {},
     "output_type": "execute_result"
    }
   ],
   "source": [
    "sales.describe()"
   ]
  },
  {
   "cell_type": "markdown",
   "id": "7ee243de-44de-4fd5-a211-14ca1620927a",
   "metadata": {},
   "source": [
    "### Convert Int Column Values to Time"
   ]
  },
  {
   "cell_type": "code",
   "execution_count": 20,
   "id": "308817d3-4ca8-422d-a11e-01102a1a0104",
   "metadata": {},
   "outputs": [
    {
     "name": "stdout",
     "output_type": "stream",
     "text": [
      "               code  amount  units      time  province  week  customerId  \\\n",
      "0        7680850106    0.80      1  11:00:00         2     1      125434   \n",
      "1        3620000470    3.59      1  11:00:00         2     1      125434   \n",
      "2        1800028064    2.25      1  11:37:00         2     1      108320   \n",
      "3        9999985067    0.85      1  11:48:00         2     1      162016   \n",
      "4        9999985131    2.19      1  13:23:00         2     1       89437   \n",
      "...             ...     ...    ...       ...       ...   ...         ...   \n",
      "1048570  1510000011    2.35      1  13:07:00         2    27       43825   \n",
      "1048571  3620000489    0.99      1  13:07:00         2    27       43825   \n",
      "1048572  9999971309    2.00      2  14:10:00         2    27       42140   \n",
      "1048573  3620000250    1.98      2  14:15:00         2    27       53544   \n",
      "1048574  3620000350    1.98      2  14:15:00         2    27       53544   \n",
      "\n",
      "         supermarket  basket  day  voucher  \n",
      "0                244       1    1        0  \n",
      "1                244       1    1        0  \n",
      "2                244       2    1        0  \n",
      "3                244       3    1        0  \n",
      "4                244       4    1        0  \n",
      "...              ...     ...  ...      ...  \n",
      "1048570          346  665448  189        0  \n",
      "1048571          346  665448  189        0  \n",
      "1048572          346  665449  189        0  \n",
      "1048573          346  665450  189        0  \n",
      "1048574          346  665450  189        0  \n",
      "\n",
      "[1048575 rows x 11 columns]\n"
     ]
    }
   ],
   "source": [
    "# Function to convert integer to time\n",
    "def int_to_time(time_int):\n",
    "    # Zero-pad the integer to ensure it has at least 4 digits\n",
    "    time_str = f'{time_int:04}'\n",
    "    # Parse the string into a datetime object\n",
    "    time_obj = datetime.strptime(time_str, '%H%M')\n",
    "    # Return the time component\n",
    "    return time_obj.time()\n",
    "\n",
    "# Apply the function to the 'time_int' column\n",
    "sales['time'] = sales['time'].apply(int_to_time)\n",
    "\n",
    "print(sales)"
   ]
  },
  {
   "cell_type": "code",
   "execution_count": 21,
   "id": "3972461c-9cd4-4dcb-9090-2665cd290985",
   "metadata": {},
   "outputs": [
    {
     "data": {
      "text/plain": [
       "count    1.048575e+06\n",
       "mean     1.780470e+00\n",
       "std      5.966503e+00\n",
       "min     -8.280000e+00\n",
       "25%      9.900000e-01\n",
       "50%      1.500000e+00\n",
       "75%      2.190000e+00\n",
       "max      5.900000e+03\n",
       "Name: amount, dtype: float64"
      ]
     },
     "execution_count": 21,
     "metadata": {},
     "output_type": "execute_result"
    }
   ],
   "source": [
    "sales[\"amount\"].describe()"
   ]
  },
  {
   "cell_type": "code",
   "execution_count": null,
   "id": "fd6aed96-4117-494d-b3a8-c53ff22eecbc",
   "metadata": {},
   "outputs": [],
   "source": []
  }
 ],
 "metadata": {
  "kernelspec": {
   "display_name": "Python 3 (ipykernel)",
   "language": "python",
   "name": "python3"
  },
  "language_info": {
   "codemirror_mode": {
    "name": "ipython",
    "version": 3
   },
   "file_extension": ".py",
   "mimetype": "text/x-python",
   "name": "python",
   "nbconvert_exporter": "python",
   "pygments_lexer": "ipython3",
   "version": "3.12.2"
  }
 },
 "nbformat": 4,
 "nbformat_minor": 5
}
